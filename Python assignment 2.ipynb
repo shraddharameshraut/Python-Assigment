{
 "cells": [
  {
   "cell_type": "code",
   "execution_count": 1,
   "id": "2340fd57-a1e9-4847-b47d-b9d0c35a6b39",
   "metadata": {},
   "outputs": [
    {
     "ename": "SyntaxError",
     "evalue": "invalid syntax (1227886367.py, line 2)",
     "output_type": "error",
     "traceback": [
      "\u001b[1;36m  Cell \u001b[1;32mIn[1], line 2\u001b[1;36m\u001b[0m\n\u001b[1;33m    basic salary, and house rent allowance is 20% of basic salary. Write a program to calculate\u001b[0m\n\u001b[1;37m          ^\u001b[0m\n\u001b[1;31mSyntaxError\u001b[0m\u001b[1;31m:\u001b[0m invalid syntax\n"
     ]
    }
   ],
   "source": [
    "#1. Ramesh's basic salary is input through the keyboard. His dearness allowance is 40% of \n",
    "basic salary, and house rent allowance is 20% of basic salary. Write a program to calculate \n",
    "his gross salary.\n"
   ]
  },
  {
   "cell_type": "code",
   "execution_count": null,
   "id": "6fe74a15-d08c-4fcd-8bb7-a33cd503b3f4",
   "metadata": {},
   "outputs": [],
   "source": [
    "basic_salary = float(input(\"enter the Ramesh's basic salary :\"))\n",
    "da = 0.4 * basic_salary\n",
    "hra = 0.2 * basic_salary\n",
    "gross_salary = basic_salary + da + hra\n",
    "print(gross_salary)"
   ]
  },
  {
   "cell_type": "code",
   "execution_count": null,
   "id": "740f0287-5c60-4ecd-b08f-a62924f26a42",
   "metadata": {},
   "outputs": [],
   "source": [
    "#2. The distance between two cities (in km.) is input through the keyboard. Write a program \n",
    "#to convert and print this distance in meters, feet, inches and centimeters.\n",
    "distance_km = float(input(\"Distance between two cities is: \"))\n",
    "print(distance_km)\n",
    "meter = distance_km  * 1000\n",
    "feet = distance_km * 3280.84\n",
    "inches = distance_km * 39370.1\n",
    "centimeters = distance_km * 1000\n",
    "print(\"Distance between two cities in meter is\", meter)\n",
    "print(\"Distance between two cities in feet is\" ,feet)\n",
    "print(\"Distance between two cities in inches is\" ,inches)\n",
    "print(\"Distance between two cities in centimeters is\", centimeters)\n",
    "\n"
   ]
  },
  {
   "cell_type": "code",
   "execution_count": null,
   "id": "58efc657-a876-4a81-adb4-0978c4e1d15b",
   "metadata": {},
   "outputs": [],
   "source": [
    "#3. If the marks obtained by a student in five different subjects are input through the \n",
    "#keyboard, find out the aggregate marks and percentage marks obtained by the student. \n",
    "#Assume that the maximum marks that can be obtained by a student in each subject is 100.\n",
    "sub1 = int(input('enter marks for Sub1: '))\n",
    "sub2 = int(input('enter marks for Sub2: '))\n",
    "sub3 = int(input('enter marks for Sub3: '))\n",
    "sub4 = int(input('enter marks for Sub4: '))\n",
    "sub5 = int(input('enter marks for Sub5: '))\n",
    "max_marks_per_subject= 100\n",
    "total_max_marks = 5* max_marks_per_subject\n",
    "aggregate_marks = sub1 + sub2 +sub3 + sub4 + sub5\n",
    "percentage_marks = (aggregate_marks /total_max_marks)* 100\n",
    "print('Aggregate marks is', aggregate_marks)\n",
    "print('Percentage marks is',percentage_marks)\n",
    "\n",
    "\n",
    "\n"
   ]
  },
  {
   "cell_type": "code",
   "execution_count": null,
   "id": "13cff371-1ee4-4d30-9cde-dce2eb1bf308",
   "metadata": {},
   "outputs": [],
   "source": [
    "#4.Temperature of a city in Fahrenheit degrees is input through the keyboard. Write a \n",
    "#program to convert this temperature into Centigrade degrees.\n",
    "Fahrenheit = float(input('Temperature of city:'))\n",
    "celsius = (Fahrenheit -32 ) *5/ 9\n",
    "print(\"Temperature in celsius is\",celsius)\n"
   ]
  },
  {
   "cell_type": "code",
   "execution_count": null,
   "id": "028cb4fd-ef00-4936-a35c-57874891bead",
   "metadata": {},
   "outputs": [],
   "source": [
    "#5. The length & breadth of a rectangle and radius of a circle are input through the \n",
    "#keyboard. Write a program to calculate the area & perimeter of the rectangle, and the area \n",
    "#& circumference of the circle.\n",
    "length = int(input('Length of rectangle:'))\n",
    "breadth =int(input('Breadth of rectangle:'))\n",
    "radius_of_circle = int(input('Radius of circle:'))\n",
    "area_of_rectangle = length*breadth\n",
    "print(\"Area of rectangle\",area_of_rectangle)\n",
    "Perimeter_of_rectangle = 2 *(length + breadth)\n",
    "print(\"Perimeter of rectangle is\",Perimeter_of_rectangle)\n",
    "area_of_circle = 3.14 * radius_of_circle * radius_of_circle\n",
    "print(\"Area of circle is\",area_of_circle)\n",
    "circumference_of_circle = 3.14 * 2 * radius_of_circle\n",
    "\n",
    "print(\"Circumference of circle is\",circumference_of_circle)\n"
   ]
  },
  {
   "cell_type": "code",
   "execution_count": null,
   "id": "aed41e9b-fb0c-4c4c-a845-9b30ae68f422",
   "metadata": {},
   "outputs": [],
   "source": [
    "#6. Two numbers are input through the keyboard into two locations C and D. Write a \n",
    "#program to interchange the contents of C and D.\n",
    "c = int(input('enter the number C:'))\n",
    "d = int(input('enter the number D :'))\n",
    "c,d = d,c\n",
    "print(\"\\nAfter swapping:\")\n",
    "print(\"C\",c)\n",
    "print(\"D \",d)"
   ]
  },
  {
   "cell_type": "code",
   "execution_count": null,
   "id": "5ff709db-8401-4b1f-b70d-53f884e90589",
   "metadata": {},
   "outputs": [],
   "source": [
    "#7. If a five-digit number is input through the keyboard, write a program to calculate the \n",
    "#sum of its digits. ( Hint: Use the modulus operator '%') \n",
    "num = int(input(\"Enter 5 digit if number:\"))\n",
    "if 10000 <= num <= 99999:\n",
    "  total = 0\n",
    "  while num:\n",
    "      total += num % 10\n",
    "      num //= 10\n",
    "  print(\"sum of digits:\", total)\n",
    "    \n",
    "       \n",
    "    \n"
   ]
  },
  {
   "cell_type": "code",
   "execution_count": null,
   "id": "7611fb55-a7c4-44b9-be75-c7ca3f0ee770",
   "metadata": {},
   "outputs": [],
   "source": [
    "#8. If a five-digit number is input through the keyboard, write a program to reverse the \n",
    "#number.\n",
    "num = int(input('Enter a 5 digit number:'))\n",
    "reversed_num = int(str(num)[::-1])\n",
    "print(\"Reversed number is:\",reversed_num)\n"
   ]
  },
  {
   "cell_type": "code",
   "execution_count": null,
   "id": "055554a6-30f1-4419-b2fb-fb525411fa74",
   "metadata": {},
   "outputs": [],
   "source": [
    "#9. If a four-digit number is input through the keyboard, write a program to obtain the sum \n",
    "#of the first and last digit of this number.\n",
    "num = int(input(\"enter a four digit number:\"))\n",
    "first_digit = num // 1000\n",
    "last_digit = num % 10\n",
    "sum = first_digit + last_digit \n",
    "print(sum)"
   ]
  },
  {
   "cell_type": "code",
   "execution_count": null,
   "id": "46388164-d7c0-4b72-8345-f19de39c401e",
   "metadata": {},
   "outputs": [],
   "source": [
    "#. In a town, the percentage of men is 52. The percentage of total literacy is 48. If total \n",
    "#percentage of literate men is 35 of the total population, write a program to find the total \n",
    "#number of illiterate men and women if the population of the town is 80,000.\n",
    "total_population = 80000\n",
    "percentage_men = 52\n",
    "percentage_women = 100-percentage_men\n",
    "total_literacy_rate = 48\n",
    "literate_men_percentage = 35\n",
    "literate_women_percentage = total_literacy_rate - literate_men_percentage\n",
    "#calculating total men and women\n",
    "total_men = (percentage_men/100) * total_population\n",
    "total_women =(percentage_women/100) * total_population\n",
    "#calculating literate mena and women\n",
    "literate_men = (literate_men_percentage / 100) * total_population\n",
    "literate_women =(literate_women_percentage / 100) * total_population\n",
    "#finding illiterate women percentage\n",
    "illiterate_men = total_men - literate_men\n",
    "illiterate_women = total_women - literate_women\n",
    "print('Total illiterate men',illiterate_men )\n",
    "print('Total illiterate women',illiterate_women)"
   ]
  },
  {
   "cell_type": "code",
   "execution_count": null,
   "id": "b3f427f9-7618-4b42-877c-93b9812675e8",
   "metadata": {},
   "outputs": [],
   "source": [
    "#A cashier has currency notes of denominations 10, 50 and 100. If the amount to be  \n",
    "#withdrawn is input through the keyboard in hundreds, find the total number of currency  \n",
    "#notes of each denomination the cashier will have to give to the withdrawer."
   ]
  },
  {
   "cell_type": "code",
   "execution_count": null,
   "id": "997deacb-da34-473b-bb16-709897370ddd",
   "metadata": {},
   "outputs": [],
   "source": [
    "amt = int(input('Enter a amount:'))\n",
    "if amt % 100 != 0: \n",
    "    print('enter the amount in multiples of 100')\n",
    "else:\n",
    "    notes_100 = amt // 100\n",
    "    amt %= 100\n",
    "    notes_50 = amt // 50\n",
    "    amt %= 50\n",
    "    notes_10 = amt // 10\n",
    "print('100 rupee notes:',notes_100)\n",
    "print('50 rupee notes:',notes_50)\n",
    "print('10 rupee notes:',notes_10)"
   ]
  },
  {
   "cell_type": "code",
   "execution_count": null,
   "id": "de78003c-cac7-4025-96cb-d3462356b2e7",
   "metadata": {},
   "outputs": [],
   "source": [
    "#12. If the total selling price of 15 items and the total profit earned on them is input through the keyboard, \n",
    "#write a program to find the cost price of one item.\n",
    "total_selling_price = float(input('enter the total selling price of 15 items:'))\n",
    "total_profit = float(input('enter the total profit earned on 15 items'))\n",
    "total_cost_price = total_selling_price - total_profit\n",
    "cost_price_1_item = total_cost_price /15\n",
    "print('cost price of one item:',cost_price_1_item)"
   ]
  },
  {
   "cell_type": "code",
   "execution_count": null,
   "id": "54390711-bbf6-4957-ae8b-b0d7893ae849",
   "metadata": {},
   "outputs": [],
   "source": [
    "#13.If a five-digit number is input through the keyboard, write a program to print a new \n",
    "#number by adding one to each of its digits. For example, if the number that is input is \n",
    "#12391 then the output should be displayed as 23402.\n",
    "num = input(\"Enter a five-digit number: \")  \n",
    "new_num = \"\"  \n",
    "\n",
    "for digit in num:  \n",
    "    new_digit = (int(digit) + 1) % 10  # Add 1 and handle 9 → 0  \n",
    "    new_num += str(new_digit)\n",
    "print(\"New number:\", new_num)\n",
    "\n"
   ]
  },
  {
   "cell_type": "code",
   "execution_count": null,
   "id": "9a4314e9-a39c-4518-a0d5-dc44870be304",
   "metadata": {},
   "outputs": [],
   "source": [
    "#While purchasing certain items, a discount of 10% is offered if the quantity purchased is \n",
    "#more than 10. If quantity and price per item are input through the keyboard, write a \n",
    "#program to calculate the total expenses.\n",
    "quantity = int(input('enter the quantity purchased:'))\n",
    "price_per_item = float(input('enter the price per item:'))\n",
    "total_cost = quantity * price_per_item \n",
    "if quantity > 10:\n",
    "    discount = total_cost * 0.10\n",
    "    total_cost -= discount\n",
    "print(\"Total expenses:\",total_cost)\n"
   ]
  },
  {
   "cell_type": "code",
   "execution_count": null,
   "id": "cd916d04-bdb1-471f-aa26-5ff4b7d821aa",
   "metadata": {},
   "outputs": [],
   "source": [
    "#2. The current year and the year in which the employee joined the organization are entered \n",
    "#through the keyboard. If the number of years for which the employee has served the \n",
    "#organization is greater than 3 then a bonus of Rs. 2500/- is given to the employee. If the \n",
    "#years of service are not greater than 3, then the program should do nothing\n",
    "\n",
    "current_year = int(input('enter the current year:'))\n",
    "joining_year = int(input('enter the employee joined year'))\n",
    "years_of_service = current_year - joining_year \n",
    "if years_of_service >3:\n",
    "    print(\"employee is eligible for bonus\")\n",
    "else:\n",
    "    print(\"No Bonus awarded\")"
   ]
  },
  {
   "cell_type": "code",
   "execution_count": null,
   "id": "6d454cbf-64ff-44c2-afe9-10f08188e728",
   "metadata": {},
   "outputs": [],
   "source": [
    "#3. If his basic salary is less than Rs. 1500, then HRA = 10% of basic salary and DA = 90% of \n",
    "#basic salary. If his salary is either equal to or above Rs. 1500, then HRA = Rs. 500 and DA = \n",
    "#98% of basic salary. If the employee's salary is input through the keyboard write a program \n",
    "#to find his gross salary\n",
    "basic_salary = float(input(\"Enter the employee's salary:\"))\n",
    "if basic_salary < 1500 :\n",
    "    hra = 0.10 * basic_salary \n",
    "    da = 0.90 * basic_salary\n",
    "else:\n",
    "    hra = 500\n",
    "    da = 0.98 *basic_salary\n",
    "\n",
    "gross_salary = basic_salary + hra + da\n",
    "print(\"gross salary is\",gross_salary)\n",
    "    "
   ]
  },
  {
   "cell_type": "code",
   "execution_count": null,
   "id": "18f1e4ad-f88e-4007-b71d-855081df51c8",
   "metadata": {},
   "outputs": [],
   "source": [
    "#.4. The marks obtained by a student in 5 different subjects are input through the keyboard. \n",
    "#The student gets a division as per the following rules: Write a program to calculate the \n",
    "#division obtained by the student.\n",
    "#a. Percentage above or equal to 60 - First division\n",
    "#b. Percentage between 50 and 59 - Second division\n",
    "#c. Percentage between 40 and 49 - Third division\n",
    "#d. Percentage less than 40 – Fail\n",
    "subject1 = float(input(\"Enter marks for Subject 1: \"))\n",
    "subject2 = float(input(\"Enter marks for Subject 2: \"))\n",
    "subject3 = float(input(\"Enter marks for Subject 3: \"))\n",
    "subject4 = float(input(\"Enter marks for Subject 4: \"))\n",
    "subject5 = float(input(\"Enter marks for Subject 5: \"))\n",
    "total_marks = subject1 + subject2 + subject3 + subject4 + subject5\n",
    "percentage = (total_marks/500)*100     #assume each subject is out of 100\n",
    "if percentage >= 60:\n",
    "    print(\"First Division\")\n",
    "elif 50 <= percentage < 59:\n",
    "    print(\"Second Division\")\n",
    "elif 40 <= percentage < 49:\n",
    "    print(\"Third division\")\n",
    "else:\n",
    "    print(\"Fail\")\n",
    "    "
   ]
  },
  {
   "cell_type": "code",
   "execution_count": null,
   "id": "6b7067bc-5820-4187-9595-30eaeb887448",
   "metadata": {},
   "outputs": [],
   "source": [
    "#5. A company insures its drivers in the following cases:\n",
    "#a. If the driver is married.\n",
    "#b. If the driver is unmarried, male & above 30 years of age.\n",
    "#c. If the driver is unmarried, female & above 25 years of age.\n",
    "marital_status = input(\"Is the driver married ?(yes/no):\").lower()\n",
    "gender = input(\"enter gender(male/female):\").lower()\n",
    "age = int(input(\"enter age:\"))\n",
    "if marital_status == \"yes\" or (gender == \"male\" and age > 30) or (gender == \"female\" and age > 25):\n",
    "    print(\"The driver is eligible for insurance.\")\n",
    "else:\n",
    "    print(\"The driver is NOT eligible for insurance.\")"
   ]
  },
  {
   "cell_type": "code",
   "execution_count": null,
   "id": "40d44cc2-8990-414c-95c9-0252ff074ba9",
   "metadata": {},
   "outputs": [],
   "source": [
    "#6. Write a program to calculate the salary as per the following table:\n",
    "#Gender Year of Service Qualifications Salary\n",
    "#Male >= 10 Post - Graduate 15000\n",
    "#>= 10 Graduate 10000\n",
    "#< 10 Post - Graduate 10000\n",
    "#< 10 Graduate 7000\n",
    "#Female >= 10 Post - Graduate 12000\n",
    "#>= 10 Graduate 9000\n",
    "#< 10 Post - Graduate 10000\n",
    "#< 10 Graduate 6000\n",
    "gender = input(\"Enter gender (Male/Female): \").strip()\n",
    "years = int(input(\"Enter years of service: \").strip())\n",
    "qualification = input(\"Enter qualification (Post-Graduate/Graduate): \").strip().lower()\n",
    "def calculate_salary(gender, years, qualification):\n",
    "    salary_data = {\n",
    "        (\"male\", True, \"post-graduate\"): 15000,\n",
    "        (\"male\", True, \"graduate\"): 10000,\n",
    "        (\"male\", False, \"post-graduate\"): 10000,\n",
    "        (\"male\", False, \"graduate\"): 7000,\n",
    "        (\"female\", True, \"post-graduate\"): 12000,\n",
    "        (\"female\", True, \"graduate\"): 9000,\n",
    "        (\"female\", False, \"post-graduate\"): 10000,\n",
    "        (\"female\", False, \"graduate\"): 6000,\n",
    "    }\n",
    "    return salary_data.get((gender.lower(), years >= 10, qualification.lower()), \"Invalid input\")\n",
    "\n",
    "salary = calculate_salary(gender, years, qualification)\n",
    "print(\"Calculated Salary:\", salary)"
   ]
  },
  {
   "cell_type": "code",
   "execution_count": null,
   "id": "5ccaa0d0-07e1-485b-81ca-bc930ffde06c",
   "metadata": {},
   "outputs": [],
   "source": [
    "#7. If cost price and selling price of an item is input through the keyboard, write a program \n",
    "#to determine whether the seller has made profit or incurred loss. Also determine how \n",
    "#much profit he made or loss he incurred.\n",
    "cost_price = float(input(\"Enter Cost Price: \"))\n",
    "selling_price = float(input(\"Enter Selling Price: \"))\n",
    "def calculate_profit_or_loss(cost_price, selling_price):\n",
    "    if selling_price > cost_price:\n",
    "        profit = selling_price - cost_price \n",
    "        print(\"profit is \",profit)\n",
    "    elif selling_price < cost_price:\n",
    "        Loss = cost_price -selling_price\n",
    "        print(\"loss is\",Loss)\n",
    "    else:\n",
    "        print(\"No profit, No loss\") \n",
    "calculate_profit_or_loss(cost_price, selling_price)"
   ]
  },
  {
   "cell_type": "code",
   "execution_count": null,
   "id": "52763ea6-1140-4f91-99d0-956b6ec38f69",
   "metadata": {
    "jp-MarkdownHeadingCollapsed": true
   },
   "outputs": [],
   "source": [
    "#8. Any integer is input through the keyboard. Write a program to find out whether it is an \n",
    "#odd number or even number. (Hint: Use the % (modulus) operator\n",
    "\n",
    "\n",
    "num = int(input(\"enter the number :\"))\n",
    "if num % 2 == 0:\n",
    "    print(\"Even number is\",num)\n",
    "else:\n",
    "    print(\"Odd number\")"
   ]
  },
  {
   "cell_type": "code",
   "execution_count": null,
   "id": "d4a2a4ab-2fd9-4d2c-8f70-a0a48fcfbb2d",
   "metadata": {},
   "outputs": [],
   "source": [
    "#9 A five-digit number is entered through the keyboard. Write a program to obtain the \n",
    "#reversed number and to determine whether the original and reversed numbers are equal \n",
    "#or not.\n",
    "original_num = int(input(\"Enter the 5 digit number:\"))\n",
    "reversed_number = int(str(original_num)[::-1])\n",
    "if original_num ==  reversed_number:\n",
    "    print(\"The original and reversed numbers are equal\")\n",
    "else:\n",
    "    print(\"The original and reversed numbers are not equal \")"
   ]
  },
  {
   "cell_type": "code",
   "execution_count": null,
   "id": "4adf1784-09b6-400e-bcd8-70b557854239",
   "metadata": {},
   "outputs": [],
   "source": [
    "#10. If the ages of Ram, Shyam and Ajay are input through the keyboard, write a program to \n",
    "#determine the youngest of the three.\n",
    "ram_age = int(input(\"Enter Ram's age: \"))\n",
    "shyam_age = int(input(\"Enter Shyam's age: \"))\n",
    "ajay_age = int(input(\"Enter Ajay's age: \"))\n",
    "youngest_age = min(ram_age, shyam_age, ajay_age)\n",
    "if youngest_age == ram_age:\n",
    "    print(\"Ram is the youngest\")\n",
    "elif youngest_age == shyam_age:\n",
    "    print(\"Shyam is the youngest\")\n",
    "else:\n",
    "    print(\"Ajay is the  youngest\")\n",
    "   "
   ]
  },
  {
   "cell_type": "code",
   "execution_count": null,
   "id": "3adb2385-4a81-4f64-b95c-d28f7d65da78",
   "metadata": {},
   "outputs": [],
   "source": [
    "#.11Write a program to check whether a triangle is valid or not, when the three angles of \n",
    "#the triangle are entered through the keyboard. A triangle is valid if the sum of all the three \n",
    "#angles is equal to 180 degrees.\n",
    "angle1 = int(input(\"Enter first angle: \"))\n",
    "angle2 = int(input(\"Enter second angle: \"))\n",
    "angle3 = int(input(\"Enter third angle: \"))\n",
    "def is_valid_triangle(angle1, angle2, angle3):\n",
    "    if angle1 + angle2 + angle3 == 180:\n",
    "         return True\n",
    "    else:\n",
    "        return False\n",
    "if is_valid_triangle(angle1, angle2, angle3):\n",
    "        print(\"The given angles form a valid triangle.\")\n",
    "else:\n",
    "        print(\"The given angles do not form a valid triangle.\")"
   ]
  },
  {
   "cell_type": "code",
   "execution_count": null,
   "id": "4d34a5f1-cb2c-4599-9795-142fdd64b75b",
   "metadata": {},
   "outputs": [],
   "source": [
    "#12. Find the absolute value of a number entered through the keyboard.\n",
    "num = float(input(\"Enter a number to find its absolute value: \"))\n",
    "print(\"The absolute value is:\", abs(num))"
   ]
  },
  {
   "cell_type": "code",
   "execution_count": null,
   "id": "f4825bcb-5772-44af-ad6a-5e35fb03c46c",
   "metadata": {},
   "outputs": [],
   "source": [
    "#13. Given the length and breadth of a rectangle, write a program to find whether the area \n",
    "#of the rectangle is greater than its perimeter. For example, the area of the rectangle with \n",
    "#length = 5 and breadth = 4 is greater than its perimeter \n",
    "length  = 5\n",
    "breadth =  4\n",
    "area_of_rec >= length * breadth\n",
    "print(area_of_rec)\n",
    "perimeter_of_rec = 2*(length  +  breadth)\n",
    "print(perimeter_of_rec)\n",
    "if area_of_rec >perimeter_of_rec:\n",
    "    print(\"Area of rectangle is greater\")\n",
    "else:\n",
    "    print(\"Perimeter of rectangle is greater\")\n",
    "    \n"
   ]
  },
  {
   "cell_type": "code",
   "execution_count": null,
   "id": "4dbb77cd-7166-49df-94b3-4eddfc841373",
   "metadata": {},
   "outputs": [],
   "source": [
    "#14. Any year is entered through the keyboard, write a program to determine whether the \n",
    "#year is leap or not. Use the logical operators && and ||.\n",
    "year = int(input(\"Enter a year: \"))\n",
    "def is_leap_year(year):\n",
    "    return (year % 4 == 0 and year % 100 != 0) or (year % 400 == 0)\n",
    "if is_leap_year(year):\n",
    "    print(\" Leap Year is\",year)\n",
    "else:\n",
    "    print(f\"{year} is not a Leap Year.\")"
   ]
  },
  {
   "cell_type": "code",
   "execution_count": null,
   "id": "dd3913e6-5463-47bf-a335-ae57dc4d0521",
   "metadata": {
    "scrolled": true
   },
   "outputs": [],
   "source": [
    "#15. A certain grade of steel is graded according to the following conditions:\n",
    "#i. Hardness must be greater than 50\n",
    "#ii. Carbon content must be less than 0.7\n",
    "#iii. Tensile strength must be greater than 5600\n",
    "#The grades are as follows:\n",
    "#i. Grade is 10 if all three conditions are met\n",
    "#ii. Grade is 9 if conditions (i) and (ii) are met\n",
    "#iii. Grade is 8 if conditions (ii) and (iii) are met\n",
    "#iv. Grade is 7 if conditions (i) and (iii) are met\n",
    "#v. Grade is 6 if only one condition is met\n",
    "#vi. Grade is 5 if none of the conditions are met\n",
    "#Write a program, which will require the user to give values of hardness, carbon content and \n",
    "#tensile strength of the steel under consideration and output the grade of the steel.\n",
    "hardness = float(input(\"Enter hardness: \"))\n",
    "carbon_content = float(input(\"Enter carbon content: \"))\n",
    "tensile_strength = float(input(\"Enter tensile strength: \"))\n",
    "def grade_steel(hardness, carbon_content, tensile_strength):   \n",
    "    condition1 = hardness > 50\n",
    "    condition2 = carbon_content < 0.7\n",
    "    condition3 = tensile_strength > 5600   \n",
    "    if condition1 and condition2 and condition3:\n",
    "        return 10\n",
    "    elif condition1 and condition2:\n",
    "        return 9\n",
    "    elif condition2 and condition3:\n",
    "        return 8\n",
    "    elif condition1 and condition3:\n",
    "        return 7\n",
    "    elif condition1 or condition2 or condition3:\n",
    "        return 6\n",
    "    else:\n",
    "        return 5\n",
    "grade = grade_steel(hardness, carbon_content, tensile_strength)\n",
    "print(f\"The grade of the steel is {grade}.\")"
   ]
  },
  {
   "cell_type": "code",
   "execution_count": null,
   "id": "fa92d9bb-2609-4682-bef8-b27c5cf18a45",
   "metadata": {},
   "outputs": [],
   "source": [
    "\n",
    "\n",
    "def calculate_fine(days_late):\n",
    "    if days_late <= 5:\n",
    "        fine = days_late * 0.50  # 50 paise per day\n",
    "        return f\"Fine is {fine} rupees.\"\n",
    "    elif 6 <= days_late <= 10:\n",
    "        fine = days_late * 1  # 1 rupee per day\n",
    "        return f\"Fine is {fine} rupees.\"\n",
    "    elif 11 <= days_late <= 30:\n",
    "        fine = days_late * 5  # 5 rupees per day\n",
    "        return f\"Fine is {fine} rupees.\"\n",
    "    elif days_late > 30:\n",
    "        return \"Membership cancelled.\"\n",
    "\n",
    "# Input: number of days late\n",
    "days_late = int(input(\"Enter the number of days late: \"))\n",
    "\n",
    "# Get the result from the function\n",
    "result = calculate_fine(days_late)\n",
    "\n",
    "# Output the result\n",
    "print(result)ge."
   ]
  },
  {
   "cell_type": "code",
   "execution_count": null,
   "id": "9d017f0e-4805-4d89-be30-d7f04e926aff",
   "metadata": {},
   "outputs": [],
   "source": [
    "#17. In a company, worker efficiency is determined on the basis of the time required for a \n",
    "#worker to complete a particular job. If the time taken by the worker is between 2 – 3 \n",
    "#hours, then the worker is said to be highly efficient. If the time required by the worker is \n",
    "#between 3 – 4 hours, then the worker is ordered to improve speed. If the time taken is \n",
    "#between 4 – 5 hours, the worker is given training to improve his speed, and if the time \n",
    "#taken by the worker is more than 5 hours, then the worker has to leave the company. If the \n",
    "#time taken by the worker is input through the keyboard, find the def efficiency of the worker.\n",
    "\n",
    "time_taken = float(input(\"Enter the time taken by the worker (in hours): \"))\n",
    "\n",
    "if 2 <= time_taken < 3:\n",
    "    print(\"Worker is Highly Efficient\")\n",
    "elif 3 <= time_taken < 4:\n",
    "    print(\"Worker is ordered to improve speed\")\n",
    "elif 4 <= time_taken < 5:\n",
    "    print(\"Worker is given training to improve speed\")\n",
    "elif time_taken >= 5:\n",
    "    print(\"Worker has to leave the company\")\n",
    "else:\n",
    "    print(\"Invalid input: Time cannot be less than 2 hours\")"
   ]
  },
  {
   "cell_type": "code",
   "execution_count": 7,
   "id": "07be705b-0800-4406-aee8-4d3be471a296",
   "metadata": {},
   "outputs": [
    {
     "name": "stdin",
     "output_type": "stream",
     "text": [
      "Enter a number to find its factors:  25\n"
     ]
    },
    {
     "name": "stdout",
     "output_type": "stream",
     "text": [
      "1\n",
      "5\n",
      "25\n"
     ]
    }
   ],
   "source": [
    "#Task -III\n",
    "#1. Write a program to find the factor of the given number.\n",
    "number = int(input(\"Enter a number to find its factors: \"))   \n",
    "for i in range(1, number + 1): \n",
    "        if number % i == 0:  \n",
    "            print(i) \n"
   ]
  },
  {
   "cell_type": "code",
   "execution_count": 6,
   "id": "0ca8b168-6d09-46d7-8e66-9c7cbc4c6bdb",
   "metadata": {},
   "outputs": [
    {
     "name": "stdin",
     "output_type": "stream",
     "text": [
      "enter the prime number: 5\n"
     ]
    },
    {
     "name": "stdout",
     "output_type": "stream",
     "text": [
      "number is prime 5\n"
     ]
    }
   ],
   "source": [
    "#2. Write a program to find whether the given number is prime or not.\n",
    "num = int(input(\"enter the prime number:\"))\n",
    "if num % 1== 0:\n",
    "    print(\"number is prime\",num)\n",
    "else:\n",
    "    print(\"number is not prime\")\n",
    "    "
   ]
  },
  {
   "cell_type": "code",
   "execution_count": 10,
   "id": "f642ad57-4a02-4a47-b030-7b26c07a4a34",
   "metadata": {},
   "outputs": [
    {
     "name": "stdin",
     "output_type": "stream",
     "text": [
      "Enter a number:  153\n"
     ]
    },
    {
     "name": "stdout",
     "output_type": "stream",
     "text": [
      "153 is an Armstrong number.\n"
     ]
    }
   ],
   "source": [
    "#3.Write a program to find the given number is Armstrong number or not\n",
    "num = int(input(\"Enter a number: \"))  \n",
    "temp = num  \n",
    "sum_of_digits = 0  \n",
    "order = len(str(num))  \n",
    "\n",
    "while temp > 0:  \n",
    "    digit = temp % 10  \n",
    "    sum_of_digits += digit ** order  \n",
    "    temp //= 10  \n",
    "\n",
    "if num == sum_of_digits:  \n",
    "    print(f\"{num} is an Armstrong number.\")  \n",
    "else:  \n",
    "    print(f\"{num} is not an Armstrong number.\") "
   ]
  },
  {
   "cell_type": "code",
   "execution_count": 11,
   "id": "537c3884-de2f-46e4-9e8f-8d66db77d173",
   "metadata": {},
   "outputs": [
    {
     "name": "stdout",
     "output_type": "stream",
     "text": [
      "153\n",
      "370\n",
      "371\n",
      "407\n"
     ]
    }
   ],
   "source": [
    "#4. Write a program to print the Armstrong numbers between 100 to 999.\n",
    "for num in range(100, 1000):\n",
    "    order = len(str(num))\n",
    "    sum_of_digits = sum(int(digit) ** order for digit in str(num))\n",
    "    \n",
    "    if num == sum_of_digits:\n",
    "        print(num)"
   ]
  },
  {
   "cell_type": "code",
   "execution_count": 12,
   "id": "2bd9adc3-69dd-4294-9d9b-0a0d256e0897",
   "metadata": {},
   "outputs": [
    {
     "name": "stdin",
     "output_type": "stream",
     "text": [
      "Enter numbers separated by spaces:  10\n"
     ]
    },
    {
     "name": "stdout",
     "output_type": "stream",
     "text": [
      "Total even numbers: 1\n",
      "Even numbers: [10]\n",
      "Total odd numbers: 0\n",
      "Odd numbers: []\n"
     ]
    }
   ],
   "source": [
    "#5. Write a program to count and print the number of odd and even numbers.\n",
    "numbers = input(\"Enter numbers separated by spaces: \").split()\n",
    "\n",
    "even_numbers = []\n",
    "odd_numbers = []\n",
    "\n",
    "even_count = 0\n",
    "odd_count = 0\n",
    "\n",
    "for num in numbers:\n",
    "    num = int(num)  # Convert string to integer\n",
    "    if num % 2 == 0:\n",
    "        even_numbers.append(num)\n",
    "        even_count += 1\n",
    "    else:\n",
    "        odd_numbers.append(num)\n",
    "        odd_count += 1\n",
    "\n",
    "print(f\"Total even numbers: {even_count}\")\n",
    "print(\"Even numbers:\", even_numbers)\n",
    "print(f\"Total odd numbers: {odd_count}\")\n",
    "print(\"Odd numbers:\", odd_numbers)"
   ]
  },
  {
   "cell_type": "code",
   "execution_count": 6,
   "id": "f610b752-f6ee-42e7-9040-78c7f758e16d",
   "metadata": {},
   "outputs": [
    {
     "name": "stdin",
     "output_type": "stream",
     "text": [
      "Enter an n-digit number:  20\n"
     ]
    },
    {
     "name": "stdout",
     "output_type": "stream",
     "text": [
      "Reversed number: 2\n"
     ]
    }
   ],
   "source": [
    "#6.Write a program to find the reverse of n digit number using While loop\n",
    "num = int(input(\"Enter an n-digit number: \"))\n",
    "reversed_num = 0\n",
    "\n",
    "while num > 0:\n",
    "    digit = num % 10  # Extract the last digit\n",
    "    reversed_num = reversed_num * 10 + digit  # Append it to reversed_num\n",
    "    num //= 10  # Remove the last digit from num\n",
    "\n",
    "print(\"Reversed number:\", reversed_num)\n",
    "\n"
   ]
  },
  {
   "cell_type": "code",
   "execution_count": 10,
   "id": "3c75661d-ee7d-422b-9122-ae5788c648b5",
   "metadata": {},
   "outputs": [
    {
     "name": "stdin",
     "output_type": "stream",
     "text": [
      "Enter a decimal number:  50\n"
     ]
    },
    {
     "name": "stdout",
     "output_type": "stream",
     "text": [
      "Binary number: 110010\n"
     ]
    }
   ],
   "source": [
    "#7. Write a program to find the binary number from given decimal number\n",
    "num = int(input(\"Enter a decimal number: \"))\n",
    "if num == 0:\n",
    "    print(\"Binary number: 0\")\n",
    "else:\n",
    "    binary_num = \"\"\n",
    "    while num > 0:\n",
    "        digit = num % 2  # Get the remainder (0 or 1)\n",
    "        binary_num = str(digit) + binary_num  # Append to the left\n",
    "        num //= 2  # Divide by 2 to get the next digit\n",
    "    print(\"Binary number:\", binary_num)\n"
   ]
  },
  {
   "cell_type": "code",
   "execution_count": 13,
   "id": "d874d94e-5406-4990-8afb-a2465d2d0011",
   "metadata": {},
   "outputs": [
    {
     "name": "stdin",
     "output_type": "stream",
     "text": [
      "Enter a binary number:  1011101010\n"
     ]
    },
    {
     "name": "stdout",
     "output_type": "stream",
     "text": [
      "Decimal number: 746\n"
     ]
    }
   ],
   "source": [
    "#8. Write a program to find the decimal number from given Binary number.\n",
    "binary_num = input(\"Enter a binary number: \")\n",
    "decimal_num = 0\n",
    "power = 0\n",
    "\n",
    "for digit in binary_num[::-1]:  # Process digits from right to left\n",
    "    decimal_num += int(digit) * (2 ** power)\n",
    "    power += 1\n",
    "\n",
    "print(\"Decimal number:\", decimal_num)"
   ]
  },
  {
   "cell_type": "code",
   "execution_count": 16,
   "id": "13f60a3c-2197-49b6-8d3c-62bb5d9497ff",
   "metadata": {},
   "outputs": [
    {
     "name": "stdin",
     "output_type": "stream",
     "text": [
      "Enter a number:  5\n"
     ]
    },
    {
     "name": "stdout",
     "output_type": "stream",
     "text": [
      "Factorial: 120\n"
     ]
    }
   ],
   "source": [
    "#9. Write a program to find the factorial of the given number.\n",
    "num = int(input(\"Enter a number: \"))\n",
    "factorial = 1\n",
    "\n",
    "if num < 0:\n",
    "    print(\"Factorial is not defined for negative numbers.\")\n",
    "elif num == 0 or num == 1:\n",
    "    print(\"Factorial: 1\")\n",
    "else:\n",
    "    while num > 1:\n",
    "        factorial *= num\n",
    "        num -= 1\n",
    "    print(\"Factorial:\", factorial)\n",
    "\n"
   ]
  },
  {
   "cell_type": "code",
   "execution_count": 18,
   "id": "54e9e978-73c9-41a2-9ead-c43196917567",
   "metadata": {},
   "outputs": [
    {
     "name": "stdin",
     "output_type": "stream",
     "text": [
      "Enter the number of terms:  10\n"
     ]
    },
    {
     "name": "stdout",
     "output_type": "stream",
     "text": [
      "Fibonacci Series:\n",
      "0\n",
      "1\n",
      "1\n",
      "2\n",
      "3\n",
      "5\n",
      "8\n",
      "13\n",
      "21\n",
      "34\n"
     ]
    }
   ],
   "source": [
    "#10. Write a program to find the Fibonacci Series of the given number.\n",
    "num = int(input(\"Enter the number of terms: \"))\n",
    "a, b = 0, 1\n",
    "count = 0\n",
    "\n",
    "if num <= 0:\n",
    "    print(\"Please enter a positive integer.\")\n",
    "elif num == 1:\n",
    "    print(\"Fibonacci Series:\\n0\")\n",
    "else:\n",
    "    print(\"Fibonacci Series:\")\n",
    "    while count < num:\n",
    "        print(a)\n",
    "        temp = a + b \n",
    "        a = b \n",
    "        b = temp  \n",
    "        count += 1\n"
   ]
  },
  {
   "cell_type": "code",
   "execution_count": 21,
   "id": "509f8246-2fbb-4e46-b45a-e61350a2a677",
   "metadata": {},
   "outputs": [
    {
     "name": "stdin",
     "output_type": "stream",
     "text": [
      "Enter a number:  54\n"
     ]
    },
    {
     "name": "stdout",
     "output_type": "stream",
     "text": [
      "54 is not a Perfect Number.\n"
     ]
    }
   ],
   "source": [
    "#11. Write a program to find the given number is perfect number\n",
    "num = int(input(\"Enter a number: \"))\n",
    "sum_of_divisors = 0\n",
    "\n",
    "# Looping only up to num // 2 for efficiency\n",
    "for i in range(1, (num // 2) + 1):\n",
    "    if num % i == 0:\n",
    "        sum_of_divisors += i\n",
    "\n",
    "# Checking if it's a perfect number\n",
    "if sum_of_divisors == num:\n",
    "    print(num, \"is a Perfect Number.\")\n",
    "else:\n",
    "    print(num, \"is not a Perfect Number.\")"
   ]
  },
  {
   "cell_type": "code",
   "execution_count": 22,
   "id": "4d12ed15-c610-4ea0-ba84-db7f9f5c176b",
   "metadata": {},
   "outputs": [
    {
     "name": "stdout",
     "output_type": "stream",
     "text": [
      "Perfect numbers between 1 and 1000:\n",
      "6\n",
      "28\n",
      "496\n"
     ]
    }
   ],
   "source": [
    "#12.Write a program to print the perfect number between 1-1000\n",
    "print(\"Perfect numbers between 1 and 1000:\")\n",
    "\n",
    "for num in range(1, 1001):\n",
    "    sum_of_divisors = 0\n",
    "    for i in range(1, (num // 2) + 1):\n",
    "        if num % i == 0:\n",
    "            sum_of_divisors += i\n",
    "    \n",
    "    if sum_of_divisors == num:\n",
    "        print(num)"
   ]
  },
  {
   "cell_type": "code",
   "execution_count": 1,
   "id": "8ce91873-d82d-44c1-9277-e4dbaa4716da",
   "metadata": {},
   "outputs": [
    {
     "name": "stdin",
     "output_type": "stream",
     "text": [
      "Enter a number:  20\n"
     ]
    },
    {
     "name": "stdout",
     "output_type": "stream",
     "text": [
      "20 is NOT a Strong Number\n"
     ]
    }
   ],
   "source": [
    "#13. Write a program to find the given number is strong number\n",
    "import math\n",
    "\n",
    "num = int(input(\"Enter a number: \"))\n",
    "temp = num\n",
    "sum_factorials = 0\n",
    "\n",
    "while temp > 0:\n",
    "    digit = temp % 10\n",
    "    sum_factorials += math.factorial(digit)\n",
    "    temp //= 10\n",
    "\n",
    "if sum_factorials == num:\n",
    "    print(f\"{num} is a Strong Number\")\n",
    "else:\n",
    "    print(f\"{num} is NOT a Strong Number\")"
   ]
  },
  {
   "cell_type": "code",
   "execution_count": 2,
   "id": "a44c9cca-8015-4702-9872-b8e26d5f2294",
   "metadata": {},
   "outputs": [
    {
     "name": "stdin",
     "output_type": "stream",
     "text": [
      "Enter the base number:  2\n",
      "Enter the exponent:  5\n"
     ]
    },
    {
     "name": "stdout",
     "output_type": "stream",
     "text": [
      "Result: 32.0\n"
     ]
    }
   ],
   "source": [
    "#14. Two numbers are entered through the keyboard. Write a program to find the value of one number raised to the power of another.\n",
    "\n",
    "base = float(input(\"Enter the base number: \"))\n",
    "exponent = float(input(\"Enter the exponent: \"))\n",
    "\n",
    "\n",
    "print(\"Result:\", base ** exponent)"
   ]
  },
  {
   "cell_type": "code",
   "execution_count": null,
   "id": "b70a65c8-3a4a-4341-bcd9-5a51b9867b81",
   "metadata": {},
   "outputs": [],
   "source": []
  }
 ],
 "metadata": {
  "kernelspec": {
   "display_name": "Python 3 (ipykernel)",
   "language": "python",
   "name": "python3"
  },
  "language_info": {
   "codemirror_mode": {
    "name": "ipython",
    "version": 3
   },
   "file_extension": ".py",
   "mimetype": "text/x-python",
   "name": "python",
   "nbconvert_exporter": "python",
   "pygments_lexer": "ipython3",
   "version": "3.11.7"
  }
 },
 "nbformat": 4,
 "nbformat_minor": 5
}
