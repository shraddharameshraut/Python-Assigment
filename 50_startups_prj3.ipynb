{
 "cells": [
  {
   "cell_type": "code",
   "execution_count": 1,
   "id": "afe74431-4921-4361-927b-fe1e6e966ce5",
   "metadata": {},
   "outputs": [],
   "source": [
    "import pandas as pd\n",
    "import numpy as np\n",
    "import seaborn as sns\n",
    "import matplotlib.pyplot as plt\n",
    "import os\n",
    "from sklearn.linear_model import LinearRegression\n",
    "from sklearn.metrics import r2_score\n",
    "from sklearn.model_selection import train_test_split\n",
    "from sklearn.preprocessing import LabelEncoder\n"
   ]
  },
  {
   "cell_type": "code",
   "execution_count": 1,
   "id": "2f2b6c6a-55ba-49e7-a4c7-42d7bc6c955e",
   "metadata": {},
   "outputs": [
    {
     "ename": "NameError",
     "evalue": "name 'pd' is not defined",
     "output_type": "error",
     "traceback": [
      "\u001b[1;31m---------------------------------------------------------------------------\u001b[0m",
      "\u001b[1;31mNameError\u001b[0m                                 Traceback (most recent call last)",
      "Cell \u001b[1;32mIn[1], line 1\u001b[0m\n\u001b[1;32m----> 1\u001b[0m df \u001b[38;5;241m=\u001b[39m pd\u001b[38;5;241m.\u001b[39mread_csv(\u001b[38;5;124m\"\u001b[39m\u001b[38;5;124m50_Startups.csv\u001b[39m\u001b[38;5;124m\"\u001b[39m)\n\u001b[0;32m      2\u001b[0m \u001b[38;5;28mprint\u001b[39m(\u001b[38;5;124m\"\u001b[39m\u001b[38;5;124mDataset Loaded Successfully. Shape:\u001b[39m\u001b[38;5;124m\"\u001b[39m, df\u001b[38;5;241m.\u001b[39mshape)\n\u001b[0;32m      3\u001b[0m df\u001b[38;5;241m.\u001b[39mhead()\n",
      "\u001b[1;31mNameError\u001b[0m: name 'pd' is not defined"
     ]
    }
   ],
   "source": [
    "df = pd.read_csv(\"50_Startups.csv\")\n",
    "print(\"Dataset Loaded Successfully. Shape:\", df.shape)\n",
    "df.head()\n"
   ]
  },
  {
   "cell_type": "code",
   "execution_count": 4,
   "id": "fb7de0b2-9798-43aa-9d95-d58c5fe41a10",
   "metadata": {},
   "outputs": [
    {
     "name": "stdout",
     "output_type": "stream",
     "text": [
      "<class 'pandas.core.frame.DataFrame'>\n",
      "RangeIndex: 50 entries, 0 to 49\n",
      "Data columns (total 5 columns):\n",
      " #   Column           Non-Null Count  Dtype  \n",
      "---  ------           --------------  -----  \n",
      " 0   R&D Spend        50 non-null     float64\n",
      " 1   Administration   50 non-null     float64\n",
      " 2   Marketing Spend  50 non-null     float64\n",
      " 3   State            50 non-null     object \n",
      " 4   Profit           50 non-null     float64\n",
      "dtypes: float64(4), object(1)\n",
      "memory usage: 2.1+ KB\n",
      "None\n",
      "           R&D Spend  Administration  Marketing Spend         Profit\n",
      "count      50.000000       50.000000        50.000000      50.000000\n",
      "mean    73721.615600   121344.639600    211025.097800  112012.639200\n",
      "std     45902.256482    28017.802755    122290.310726   40306.180338\n",
      "min         0.000000    51283.140000         0.000000   14681.400000\n",
      "25%     39936.370000   103730.875000    129300.132500   90138.902500\n",
      "50%     73051.080000   122699.795000    212716.240000  107978.190000\n",
      "75%    101602.800000   144842.180000    299469.085000  139765.977500\n",
      "max    165349.200000   182645.560000    471784.100000  192261.830000\n",
      "R&D Spend          0\n",
      "Administration     0\n",
      "Marketing Spend    0\n",
      "State              0\n",
      "Profit             0\n",
      "dtype: int64\n"
     ]
    }
   ],
   "source": [
    "print(df.info())\n",
    "print(df.describe())\n",
    "print(df.isnull().sum())\n"
   ]
  },
  {
   "cell_type": "code",
   "execution_count": 3,
   "id": "f82324c5-2d14-40b8-a835-85508c4e5f8f",
   "metadata": {},
   "outputs": [
    {
     "ename": "NameError",
     "evalue": "name 'plt' is not defined",
     "output_type": "error",
     "traceback": [
      "\u001b[1;31m---------------------------------------------------------------------------\u001b[0m",
      "\u001b[1;31mNameError\u001b[0m                                 Traceback (most recent call last)",
      "Cell \u001b[1;32mIn[3], line 4\u001b[0m\n\u001b[0;32m      1\u001b[0m numerical_cols \u001b[38;5;241m=\u001b[39m [\u001b[38;5;124m'\u001b[39m\u001b[38;5;124mR&D Spend\u001b[39m\u001b[38;5;124m'\u001b[39m, \u001b[38;5;124m'\u001b[39m\u001b[38;5;124mAdministration\u001b[39m\u001b[38;5;124m'\u001b[39m, \u001b[38;5;124m'\u001b[39m\u001b[38;5;124mMarketing Spend\u001b[39m\u001b[38;5;124m'\u001b[39m, \u001b[38;5;124m'\u001b[39m\u001b[38;5;124mProfit\u001b[39m\u001b[38;5;124m'\u001b[39m]\n\u001b[0;32m      3\u001b[0m \u001b[38;5;28;01mfor\u001b[39;00m col \u001b[38;5;129;01min\u001b[39;00m numerical_cols:\n\u001b[1;32m----> 4\u001b[0m     plt\u001b[38;5;241m.\u001b[39mfigure(figsize\u001b[38;5;241m=\u001b[39m(\u001b[38;5;241m6\u001b[39m,\u001b[38;5;241m4\u001b[39m))\n\u001b[0;32m      5\u001b[0m     sns\u001b[38;5;241m.\u001b[39mhistplot(df[col], kde\u001b[38;5;241m=\u001b[39m\u001b[38;5;28;01mTrue\u001b[39;00m)\n\u001b[0;32m      6\u001b[0m     plt\u001b[38;5;241m.\u001b[39mtitle(\u001b[38;5;124mf\u001b[39m\u001b[38;5;124m\"\u001b[39m\u001b[38;5;124mDistribution of \u001b[39m\u001b[38;5;132;01m{\u001b[39;00mcol\u001b[38;5;132;01m}\u001b[39;00m\u001b[38;5;124m\"\u001b[39m)\n",
      "\u001b[1;31mNameError\u001b[0m: name 'plt' is not defined"
     ]
    }
   ],
   "source": [
    "numerical_cols = ['R&D Spend', 'Administration', 'Marketing Spend', 'Profit']\n",
    "\n",
    "for col in numerical_cols:\n",
    "    plt.figure(figsize=(6,4))\n",
    "    sns.histplot(df[col], kde=True)\n",
    "    plt.title(f\"Distribution of {col}\")\n",
    "    plt.savefig(f\"graphs/hist_{col}.png\")\n",
    "    plt.show()\n",
    "\n"
   ]
  },
  {
   "cell_type": "code",
   "execution_count": 4,
   "id": "d123eed1-921a-415d-ace3-7f632163a9a9",
   "metadata": {},
   "outputs": [
    {
     "ename": "NameError",
     "evalue": "name 'sns' is not defined",
     "output_type": "error",
     "traceback": [
      "\u001b[1;31m---------------------------------------------------------------------------\u001b[0m",
      "\u001b[1;31mNameError\u001b[0m                                 Traceback (most recent call last)",
      "Cell \u001b[1;32mIn[4], line 1\u001b[0m\n\u001b[1;32m----> 1\u001b[0m sns\u001b[38;5;241m.\u001b[39mpairplot(df)\n\u001b[0;32m      2\u001b[0m plt\u001b[38;5;241m.\u001b[39msavefig(\u001b[38;5;124m\"\u001b[39m\u001b[38;5;124mgraphs/pairplot.png\u001b[39m\u001b[38;5;124m\"\u001b[39m)\n\u001b[0;32m      3\u001b[0m plt\u001b[38;5;241m.\u001b[39mshow()\n",
      "\u001b[1;31mNameError\u001b[0m: name 'sns' is not defined"
     ]
    }
   ],
   "source": [
    "sns.pairplot(df)\n",
    "plt.savefig(\"graphs/pairplot.png\")\n",
    "plt.show()\n",
    "\n",
    "plt.figure(figsize=(8,6))\n",
    "sns.heatmap(df.corr(), annot=True, cmap='coolwarm')\n",
    "plt.title(\"Correlation Matrix\")\n",
    "plt.savefig(\"graphs/correlation_matrix.png\")\n",
    "plt.show()\n"
   ]
  },
  {
   "cell_type": "code",
   "execution_count": 5,
   "id": "ccc3783b-70cd-4b58-86fa-01ae8e3b621d",
   "metadata": {},
   "outputs": [
    {
     "ename": "NameError",
     "evalue": "name 'df' is not defined",
     "output_type": "error",
     "traceback": [
      "\u001b[1;31m---------------------------------------------------------------------------\u001b[0m",
      "\u001b[1;31mNameError\u001b[0m                                 Traceback (most recent call last)",
      "Cell \u001b[1;32mIn[5], line 1\u001b[0m\n\u001b[1;32m----> 1\u001b[0m df_encoded \u001b[38;5;241m=\u001b[39m df\u001b[38;5;241m.\u001b[39mcopy()\n\u001b[0;32m      2\u001b[0m df_encoded[\u001b[38;5;124m'\u001b[39m\u001b[38;5;124mState\u001b[39m\u001b[38;5;124m'\u001b[39m] \u001b[38;5;241m=\u001b[39m LabelEncoder()\u001b[38;5;241m.\u001b[39mfit_transform(df[\u001b[38;5;124m'\u001b[39m\u001b[38;5;124mState\u001b[39m\u001b[38;5;124m'\u001b[39m])\n",
      "\u001b[1;31mNameError\u001b[0m: name 'df' is not defined"
     ]
    }
   ],
   "source": [
    "df_encoded = df.copy()\n",
    "df_encoded['State'] = LabelEncoder().fit_transform(df['State'])\n"
   ]
  },
  {
   "cell_type": "code",
   "execution_count": 6,
   "id": "d24d5ef4-091d-4859-ba68-6d96940da09b",
   "metadata": {},
   "outputs": [
    {
     "ename": "NameError",
     "evalue": "name 'df' is not defined",
     "output_type": "error",
     "traceback": [
      "\u001b[1;31m---------------------------------------------------------------------------\u001b[0m",
      "\u001b[1;31mNameError\u001b[0m                                 Traceback (most recent call last)",
      "Cell \u001b[1;32mIn[6], line 1\u001b[0m\n\u001b[1;32m----> 1\u001b[0m X \u001b[38;5;241m=\u001b[39m df[[\u001b[38;5;124m'\u001b[39m\u001b[38;5;124mR&D Spend\u001b[39m\u001b[38;5;124m'\u001b[39m, \u001b[38;5;124m'\u001b[39m\u001b[38;5;124mAdministration\u001b[39m\u001b[38;5;124m'\u001b[39m, \u001b[38;5;124m'\u001b[39m\u001b[38;5;124mMarketing Spend\u001b[39m\u001b[38;5;124m'\u001b[39m]]\n\u001b[0;32m      2\u001b[0m y \u001b[38;5;241m=\u001b[39m df[\u001b[38;5;124m'\u001b[39m\u001b[38;5;124mProfit\u001b[39m\u001b[38;5;124m'\u001b[39m]\n\u001b[0;32m      4\u001b[0m X_train, X_test, y_train, y_test \u001b[38;5;241m=\u001b[39m train_test_split(X, y, test_size\u001b[38;5;241m=\u001b[39m\u001b[38;5;241m0.2\u001b[39m, random_state\u001b[38;5;241m=\u001b[39m\u001b[38;5;241m42\u001b[39m)\n",
      "\u001b[1;31mNameError\u001b[0m: name 'df' is not defined"
     ]
    }
   ],
   "source": [
    "X = df[['R&D Spend', 'Administration', 'Marketing Spend']]\n",
    "y = df['Profit']\n",
    "\n",
    "X_train, X_test, y_train, y_test = train_test_split(X, y, test_size=0.2, random_state=42)\n",
    "model1 = LinearRegression()\n",
    "model1.fit(X_train, y_train)\n",
    "y_pred1 = model1.predict(X_test)\n",
    "r2_model1 = round(r2_score(y_test, y_pred1), 4)\n",
    "print(\"R² Score for Model 1 (Raw Data):\", r2_model1)\n"
   ]
  },
  {
   "cell_type": "code",
   "execution_count": 10,
   "id": "a7ee0b93-137e-4607-9d2e-663dd598dd52",
   "metadata": {},
   "outputs": [
    {
     "name": "stdout",
     "output_type": "stream",
     "text": [
      "R² Score for Model 2 (Encoded State): 0.9001\n"
     ]
    }
   ],
   "source": [
    "X2 = df_encoded.drop('Profit', axis=1)\n",
    "y2 = df_encoded['Profit']\n",
    "\n",
    "X2_train, X2_test, y2_train, y2_test = train_test_split(X2, y2, test_size=0.2, random_state=42)\n",
    "model2 = LinearRegression()\n",
    "model2.fit(X2_train, y2_train)\n",
    "y_pred2 = model2.predict(X2_test)\n",
    "r2_model2 = round(r2_score(y2_test, y_pred2), 4)\n",
    "print(\"R² Score for Model 2 (Encoded State):\", r2_model2)\n"
   ]
  },
  {
   "cell_type": "code",
   "execution_count": 11,
   "id": "1d39fa36-0fb9-4285-8cb3-ae428392313f",
   "metadata": {},
   "outputs": [
    {
     "name": "stdout",
     "output_type": "stream",
     "text": [
      "R² Score for Model 3 (Log Transformed): 0.3425\n"
     ]
    }
   ],
   "source": [
    "df_log = df_encoded.copy()\n",
    "df_log[['R&D Spend', 'Administration', 'Marketing Spend']] = df_log[['R&D Spend', 'Administration', 'Marketing Spend']].apply(lambda x: np.log1p(x))\n",
    "\n",
    "X3 = df_log.drop('Profit', axis=1)\n",
    "y3 = df_log['Profit']\n",
    "\n",
    "X3_train, X3_test, y3_train, y3_test = train_test_split(X3, y3, test_size=0.2, random_state=42)\n",
    "model3 = LinearRegression()\n",
    "model3.fit(X3_train, y3_train)\n",
    "y_pred3 = model3.predict(X3_test)\n",
    "r2_model3 = round(r2_score(y3_test, y_pred3), 4)\n",
    "print(\"R² Score for Model 3 (Log Transformed):\", r2_model3)\n"
   ]
  },
  {
   "cell_type": "code",
   "execution_count": 12,
   "id": "2e23b26e-c519-4791-909e-d5ecb0a8ef2c",
   "metadata": {},
   "outputs": [
    {
     "name": "stdout",
     "output_type": "stream",
     "text": [
      "R² Score for Model 4 (R&D Only): 0.9265\n"
     ]
    }
   ],
   "source": [
    "X4 = df[['R&D Spend']]\n",
    "y4 = df['Profit']\n",
    "\n",
    "X4_train, X4_test, y4_train, y4_test = train_test_split(X4, y4, test_size=0.2, random_state=42)\n",
    "model4 = LinearRegression()\n",
    "model4.fit(X4_train, y4_train)\n",
    "y_pred4 = model4.predict(X4_test)\n",
    "r2_model4 = round(r2_score(y4_test, y_pred4), 4)\n",
    "print(\"R² Score for Model 4 (R&D Only):\", r2_model4)\n"
   ]
  },
  {
   "cell_type": "code",
   "execution_count": 13,
   "id": "663609fe-6840-4cc9-8e88-9ebbb4450b43",
   "metadata": {},
   "outputs": [
    {
     "name": "stdout",
     "output_type": "stream",
     "text": [
      "\n",
      "📊 Model Comparison Table:\n",
      "\n",
      "Model Name        Description  R² Score\n",
      "   Model 1       Raw Features    0.9001\n",
      "   Model 2    + Encoded State    0.9001\n",
      "   Model 3 Log Transformation    0.3425\n",
      "   Model 4     R&D Spend Only    0.9265\n"
     ]
    }
   ],
   "source": [
    "comparison = pd.DataFrame({\n",
    "    \"Model Name\": [\"Model 1\", \"Model 2\", \"Model 3\", \"Model 4\"],\n",
    "    \"Description\": [\n",
    "        \"Raw Features\",\n",
    "        \"+ Encoded State\",\n",
    "        \"Log Transformation\",\n",
    "        \"R&D Spend Only\"\n",
    "    ],\n",
    "    \"R² Score\": [r2_model1, r2_model2, r2_model3, r2_model4]\n",
    "})\n",
    "\n",
    "comparison[\"R² Score\"] = comparison[\"R² Score\"].round(4)  # round for clean display\n",
    "print(\"\\n📊 Model Comparison Table:\\n\")\n",
    "print(comparison.to_string(index=False))\n"
   ]
  },
  {
   "cell_type": "code",
   "execution_count": null,
   "id": "d89d9485-81ac-4d9c-ab04-a60173b475ff",
   "metadata": {},
   "outputs": [],
   "source": []
  }
 ],
 "metadata": {
  "kernelspec": {
   "display_name": "Python 3 (ipykernel)",
   "language": "python",
   "name": "python3"
  },
  "language_info": {
   "codemirror_mode": {
    "name": "ipython",
    "version": 3
   },
   "file_extension": ".py",
   "mimetype": "text/x-python",
   "name": "python",
   "nbconvert_exporter": "python",
   "pygments_lexer": "ipython3",
   "version": "3.11.7"
  }
 },
 "nbformat": 4,
 "nbformat_minor": 5
}
