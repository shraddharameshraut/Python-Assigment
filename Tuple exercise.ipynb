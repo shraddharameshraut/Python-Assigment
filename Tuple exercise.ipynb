{
 "cells": [
  {
   "cell_type": "code",
   "execution_count": 1,
   "id": "d70c19ce-fa60-40f6-ac56-015fc97e0b4b",
   "metadata": {},
   "outputs": [
    {
     "name": "stdout",
     "output_type": "stream",
     "text": [
      "Tuple = ()\n"
     ]
    }
   ],
   "source": [
    "# 1. Write a Python program to create a tuple\n",
    "# Sample Output\n",
    "# Tuple = ()\n",
    "\n",
    "\n",
    "my_tuple = ()\n",
    "\n",
    "\n",
    "print(\"Tuple =\", my_tuple)"
   ]
  },
  {
   "cell_type": "code",
   "execution_count": 2,
   "id": "62fad5f3-f272-4f4d-bd0a-719d4c1697f1",
   "metadata": {},
   "outputs": [
    {
     "name": "stdout",
     "output_type": "stream",
     "text": [
      "('Tutor Joes', True, 'T', 3.21, 10)\n"
     ]
    }
   ],
   "source": [
    "# 2. Write a Python program to create a tuple with different data types\n",
    "# Sample Output\n",
    "# ('Tutor Joes', True, 'T', 3.21, 10)\n",
    "\n",
    "\n",
    "my_tuple = ('Tutor Joes', True, 'T', 3.21, 10)\n",
    "\n",
    "\n",
    "print(my_tuple)\n"
   ]
  },
  {
   "cell_type": "code",
   "execution_count": 3,
   "id": "8a800691-6971-43a8-b312-9f07d967d5cb",
   "metadata": {},
   "outputs": [
    {
     "name": "stdout",
     "output_type": "stream",
     "text": [
      "10\n",
      "Type = <class 'tuple'>\n"
     ]
    }
   ],
   "source": [
    "# 3. Write a Python program to create a tuple with numbers and print one item\n",
    "# Sample Output\n",
    "# 10\n",
    "# Type = tuple\n",
    "\n",
    "\n",
    "num_tuple = (10, 20, 30, 40, 50)\n",
    "\n",
    "\n",
    "item = num_tuple[0]\n",
    "\n",
    "\n",
    "print(item)\n",
    "print(\"Type =\", type((item,)))  "
   ]
  },
  {
   "cell_type": "code",
   "execution_count": 4,
   "id": "229419cc-c126-45da-9085-f682e4e633f9",
   "metadata": {},
   "outputs": [
    {
     "name": "stdout",
     "output_type": "stream",
     "text": [
      "a = 4 8 3\n",
      "(4, 8, 3)\n"
     ]
    }
   ],
   "source": [
    "# 4. Write a Python program to unpack a tuple in several variables\n",
    "# Sample Output\n",
    "# a = 4, 8, 3\n",
    "# (4, 8, 3)\n",
    "\n",
    "# Creating a tuple\n",
    "my_tuple = (4, 8, 3)\n",
    "\n",
    "\n",
    "a, b, c = my_tuple\n",
    "\n",
    "\n",
    "print(\"a =\", a, b, c)\n",
    "print(my_tuple)  \n"
   ]
  },
  {
   "cell_type": "code",
   "execution_count": 5,
   "id": "df236f66-adf4-4a7a-9fe2-e90d6c99b869",
   "metadata": {},
   "outputs": [
    {
     "name": "stdout",
     "output_type": "stream",
     "text": [
      "(10, 40, 50, 70, 90)\n",
      "add items in list = 20\n",
      "(10, 40, 50, 70, 90, 20)\n"
     ]
    }
   ],
   "source": [
    "# 5. Write a Python program to add an item in a tuple\n",
    "# Sample Output\n",
    "# (10, 40, 50, 70, 90)\n",
    "# add items in list = 20\n",
    "# (10, 40, 50, 70, 90, 20)\n",
    "\n",
    "\n",
    "my_tuple = (10, 40, 50, 70, 90)\n",
    "\n",
    "\n",
    "print(my_tuple)\n",
    "\n",
    "\n",
    "new_item = 20\n",
    "print(\"add items in list =\", new_item)\n",
    "\n",
    "\n",
    "my_tuple = my_tuple + (new_item,)\n",
    "\n",
    "print(my_tuple)"
   ]
  },
  {
   "cell_type": "code",
   "execution_count": 6,
   "id": "d6cc0122-78f4-420a-abc0-e5209d1985de",
   "metadata": {},
   "outputs": [
    {
     "name": "stdout",
     "output_type": "stream",
     "text": [
      "('T', 'u', 't', 'o', 'r', ' ', 'J', 'o', 'e', 's')\n",
      "Tutor Joes\n"
     ]
    }
   ],
   "source": [
    "# 6. Write a Python program to convert a tuple to a string\n",
    "# Sample Output\n",
    "# ('T', 'u', 't', 'o', 'r', ' ', 'J', 'o', 'e', 's')\n",
    "# Tutor Joes\n",
    "\n",
    "\n",
    "char_tuple = ('T', 'u', 't', 'o', 'r', ' ', 'J', 'o', 'e', 's')\n",
    "\n",
    "\n",
    "string_result = ''.join(char_tuple)\n",
    "\n",
    "\n",
    "print(char_tuple)\n",
    "print(string_result)\n"
   ]
  },
  {
   "cell_type": "code",
   "execution_count": 7,
   "id": "fdbe055b-8651-4906-84e8-8f6ce4236385",
   "metadata": {},
   "outputs": [
    {
     "name": "stdout",
     "output_type": "stream",
     "text": [
      "('w', 3, 'r', 'e', 's', 'o', 'u', 'r', 'c', 'e')\n",
      "4th Element From Tuple: e\n",
      "4th Element From Last Tuple: u\n"
     ]
    }
   ],
   "source": [
    "# 7. Write a Python program to get the 4th element and 4th element from last of a tuple\n",
    "# Sample Output\n",
    "# ('w', 3, 'r', 'e', 's', 'o', 'u', 'r', 'c', 'e')\n",
    "# 4th Elements From Tuple : e\n",
    "# 4th Elements From Last Tuple : u\n",
    "\n",
    "\n",
    "\n",
    "my_tuple = ('w', 3, 'r', 'e', 's', 'o', 'u', 'r', 'c', 'e')\n",
    "\n",
    "\n",
    "fourth_element = my_tuple[3]\n",
    "fourth_from_last = my_tuple[-4]\n",
    "\n",
    "\n",
    "print(my_tuple)\n",
    "print(\"4th Element From Tuple:\", fourth_element)\n",
    "print(\"4th Element From Last Tuple:\", fourth_from_last)"
   ]
  },
  {
   "cell_type": "code",
   "execution_count": 9,
   "id": "c245391d-d593-461b-952a-ee63e812b0e6",
   "metadata": {},
   "outputs": [
    {
     "name": "stdout",
     "output_type": "stream",
     "text": [
      "('Tutor', 'J', 23, 56.67, [23, 12], True)\n",
      "Copy = ('Tutor', 'J', 23, 56.67, [23, 12], True)\n"
     ]
    }
   ],
   "source": [
    "# 8. Write a Python program to create the colon of a tuple\n",
    "# Sample Output\n",
    "# (\"Tutor\", 'J', 23 , 56.67 , [23,12] , True)\n",
    "# Copy = ('Tutor', 'J', 23, 56.67, [23, 12], True)\n",
    "\n",
    "\n",
    "original_tuple = (\"Tutor\", 'J', 23, 56.67, [23, 12], True)\n",
    "\n",
    "\n",
    "copy_tuple = original_tuple  \n",
    "\n",
    "\n",
    "print(original_tuple)\n",
    "print(\"Copy =\", copy_tuple)\n"
   ]
  },
  {
   "cell_type": "code",
   "execution_count": 10,
   "id": "7e289ff3-a758-444f-80f3-1406cb532337",
   "metadata": {},
   "outputs": [
    {
     "name": "stdout",
     "output_type": "stream",
     "text": [
      "(2, 34, 45, 6, 7, 2, 4, 5, 78, 34, 2)\n",
      "item = 2\n",
      "Repeated items of a tuple = 3\n"
     ]
    }
   ],
   "source": [
    "# 9. Write a Python program to find the repeated items of a tuple\n",
    "# Sample Output\n",
    "# (2, 34, 45, 6, 7, 2, 4, 5, 78, 34, 2)\n",
    "# item = 2\n",
    "# Repeated items of a tuple = 3\n",
    "\n",
    "\n",
    "my_tuple = (2, 34, 45, 6, 7, 2, 4, 5, 78, 34, 2)\n",
    "\n",
    "\n",
    "item = 2\n",
    "\n",
    "\n",
    "count = my_tuple.count(item)\n",
    "\n",
    "\n",
    "print(my_tuple)\n",
    "print(\"item =\", item)\n",
    "print(\"Repeated items of a tuple =\", count)"
   ]
  },
  {
   "cell_type": "code",
   "execution_count": 11,
   "id": "d899c128-d31f-40ce-b8ed-e0f73b786ca0",
   "metadata": {},
   "outputs": [
    {
     "name": "stdout",
     "output_type": "stream",
     "text": [
      "('T', 'u', 't', 'o', 'r', ' ', 'J', 'o', 'e', 's', 8)\n",
      "8 in Tuple = True\n",
      "'x' in Tuple = False\n"
     ]
    }
   ],
   "source": [
    "# 10. Write a Python program to check whether an element exists within a tuple\n",
    "# Sample Output\n",
    "# ('T', 'u', 't', 'o', 'r', ' ', 'J', 'o', 'e', 's',8)\n",
    "# 8 in Tuple = True\n",
    "# 'x' in Tuple = False\n",
    "\n",
    "\n",
    "my_tuple = ('T', 'u', 't', 'o', 'r', ' ', 'J', 'o', 'e', 's', 8)\n",
    "\n",
    "item1 = 8\n",
    "item2 = 'x'\n",
    "\n",
    "print(my_tuple)\n",
    "print(f\"{item1} in Tuple =\", item1 in my_tuple)\n",
    "print(f\"'{item2}' in Tuple =\", item2 in my_tuple)\n"
   ]
  },
  {
   "cell_type": "code",
   "execution_count": 12,
   "id": "e7cc7e9c-8589-46ea-9b37-34e8ca65af3e",
   "metadata": {},
   "outputs": [
    {
     "name": "stdout",
     "output_type": "stream",
     "text": [
      "[12, 45, 87, 54, 89, 4]\n",
      "(12, 45, 87, 54, 89, 4)\n"
     ]
    }
   ],
   "source": [
    "# 11. Write a Python program to convert a list to a tuple\n",
    "# Sample Output\n",
    "# [12, 45, 87, 54, 89, 4]\n",
    "# (12, 45, 87, 54, 89, 4)\n",
    "\n",
    "\n",
    "my_list = [12, 45, 87, 54, 89, 4]\n",
    "\n",
    "my_tuple = tuple(my_list)\n",
    "\n",
    "print(my_list)\n",
    "print(my_tuple)\n"
   ]
  },
  {
   "cell_type": "code",
   "execution_count": 13,
   "id": "c83a4f1d-86c9-467f-939a-0a87cb914d7c",
   "metadata": {},
   "outputs": [
    {
     "name": "stdout",
     "output_type": "stream",
     "text": [
      "(23, 45, 56, 68, 10, 45, 7, 9)\n",
      "Remove = 56\n",
      "(23, 45, 68, 10, 45, 7, 9)\n"
     ]
    }
   ],
   "source": [
    "# 12. Write a Python program to remove an item from a tuple\n",
    "# Sample Output\n",
    "# (23, 45, 56, 68, 10, 45, 7, 9)\n",
    "# Remove = 56\n",
    "# (23, 45, 68, 10, 45, 7, 9)\n",
    "\n",
    "\n",
    "\n",
    "my_tuple = (23, 45, 56, 68, 10, 45, 7, 9)\n",
    "\n",
    "\n",
    "remove_item = 56\n",
    "\n",
    "temp_list = list(my_tuple)\n",
    "temp_list.remove(remove_item)  \n",
    "my_tuple = tuple(temp_list)\n",
    "\n",
    "print((23, 45, 56, 68, 10, 45, 7, 9)) \n",
    "print(\"Remove =\", remove_item)\n",
    "print(my_tuple)  "
   ]
  },
  {
   "cell_type": "code",
   "execution_count": 14,
   "id": "eeb9aed8-e2a3-4b47-9a32-515902ffb43b",
   "metadata": {},
   "outputs": [
    {
     "name": "stdout",
     "output_type": "stream",
     "text": [
      "(10, 20, 30, 40, 50, 60, 70, 80, 90, 100)\n",
      "(40, 50, 60, 70, 80)\n"
     ]
    }
   ],
   "source": [
    "# 13. Write a Python program to slice a tuple\n",
    "# Sample Output\n",
    "# (10, 20, 30, 40, 50, 60, 70, 80, 90, 100)\n",
    "# (40, 50, 60, 70, 80)\n",
    "\n",
    "\n",
    "\n",
    "my_tuple = (10, 20, 30, 40, 50, 60, 70, 80, 90, 100)\n",
    "\n",
    "sliced_tuple = my_tuple[3:8]\n",
    "\n",
    "\n",
    "print(my_tuple)\n",
    "print(sliced_tuple)"
   ]
  },
  {
   "cell_type": "code",
   "execution_count": 15,
   "id": "f094b48c-e510-4d36-b27d-ae34531ab14f",
   "metadata": {},
   "outputs": [
    {
     "name": "stdout",
     "output_type": "stream",
     "text": [
      "(23, 45, 67, 78, 89, 90, 34, 56)\n",
      "Item = 78\n",
      "Index Number: 3\n"
     ]
    }
   ],
   "source": [
    "# 14. Write a Python program to find the index of an item of a tuple\n",
    "# Sample Output\n",
    "# (23, 45, 67, 78, 89, 90, 34, 56)\n",
    "# Item = 78\n",
    "# Index Number : 3\n",
    "\n",
    "\n",
    "\n",
    "my_tuple = (23, 45, 67, 78, 89, 90, 34, 56)\n",
    "\n",
    "\n",
    "item = 78\n",
    "\n",
    "\n",
    "index_number = my_tuple.index(item)\n",
    "\n",
    "\n",
    "print(my_tuple)\n",
    "print(\"Item =\", item)\n",
    "print(\"Index Number:\", index_number)\n"
   ]
  },
  {
   "cell_type": "code",
   "execution_count": 16,
   "id": "efbc71f0-b059-44db-b728-2971b05e39f7",
   "metadata": {},
   "outputs": [
    {
     "name": "stdout",
     "output_type": "stream",
     "text": [
      "('Lion', 'Cat', 'Dog', 'Panda', 'Tiger', 'Fox')\n",
      "Length: 6\n"
     ]
    }
   ],
   "source": [
    "# 15. Write a Python program to find the length of a tuple\n",
    "# Sample Output\n",
    "# (\"Lion\", \"Cat\", \"Dog\", \"Panda\", \"Tiger\", \"Fox\")\n",
    "# Length : 6\n",
    "\n",
    "\n",
    "my_tuple = (\"Lion\", \"Cat\", \"Dog\", \"Panda\", \"Tiger\", \"Fox\")\n",
    "\n",
    "\n",
    "length = len(my_tuple)\n",
    "\n",
    "\n",
    "print(my_tuple)\n",
    "print(\"Length:\", length)\n"
   ]
  },
  {
   "cell_type": "code",
   "execution_count": 17,
   "id": "507af52c-49d5-4f8d-8f1d-9b6f7aa2cc08",
   "metadata": {},
   "outputs": [
    {
     "name": "stdout",
     "output_type": "stream",
     "text": [
      "(('Name', 'Ram'), ('Age', 23), ('City', 'Salem'), ('Mark', 422))\n",
      "{'Name': 'Ram', 'Age': 23, 'City': 'Salem', 'Mark': 422}\n"
     ]
    }
   ],
   "source": [
    "# 16. Write a Python program to convert a tuple to a dictionary\n",
    "# Sample Output\n",
    "# ( (\"Name\", \"Ram\"), (\"Age\", 23), (\"City\", \"Salem\"), (\"Mark\", 422) )\n",
    "# { 'Name': 'Ram', 'Age': 23, 'City': 'Salem', 'Mark': 422 }\n",
    "\n",
    "\n",
    "my_tuple = ((\"Name\", \"Ram\"), (\"Age\", 23), (\"City\", \"Salem\"), (\"Mark\", 422))\n",
    "\n",
    "my_dict = dict(my_tuple)\n",
    "\n",
    "\n",
    "print(my_tuple)\n",
    "print(my_dict)"
   ]
  },
  {
   "cell_type": "code",
   "execution_count": 18,
   "id": "5e5877a8-5b0e-44e5-ac6f-240235f81de8",
   "metadata": {},
   "outputs": [
    {
     "name": "stdout",
     "output_type": "stream",
     "text": [
      "[(10, 30), (60, 90), (20, 50)]\n",
      "[[10, 60, 20], [30, 90, 50]]\n"
     ]
    }
   ],
   "source": [
    "# 17. Write a Python program to unzip a list of tuples into individual lists\n",
    "# Sample Output\n",
    "# [ (10,30), (60,90), (20,50) ]\n",
    "# [ (10, 60, 20), (30, 90, 50) ]\n",
    "\n",
    "\n",
    "my_list = [(10, 30), (60, 90), (20, 50)]\n",
    "\n",
    "unzipped_lists = list(map(list, zip(*my_list)))\n",
    "\n",
    "\n",
    "print(my_list)\n",
    "print(unzipped_lists)\n"
   ]
  },
  {
   "cell_type": "code",
   "execution_count": 19,
   "id": "0d665488-94b5-429b-b44e-611451c74beb",
   "metadata": {},
   "outputs": [
    {
     "name": "stdout",
     "output_type": "stream",
     "text": [
      "Before Reverse: (23, 45, 67, 78, 89, 90, 34, 56)\n",
      "After Reverse: (56, 34, 90, 89, 78, 67, 45, 23)\n"
     ]
    }
   ],
   "source": [
    "# 18. Write a Python program to reverse a tuple\n",
    "# Sample Output\n",
    "# Before Reverse : ( 23, 45, 67, 78, 89, 90, 34, 56 )\n",
    "# After Reverse : ( 56, 34, 90, 89, 78, 67, 45, 23 )\n",
    "\n",
    "\n",
    "\n",
    "my_tuple = (23, 45, 67, 78, 89, 90, 34, 56)\n",
    "\n",
    "\n",
    "reversed_tuple = my_tuple[::-1]\n",
    "\n",
    "\n",
    "print(\"Before Reverse:\", my_tuple)\n",
    "print(\"After Reverse:\", reversed_tuple)"
   ]
  },
  {
   "cell_type": "code",
   "execution_count": 22,
   "id": "c53caf7f-ca40-4a5a-9cd7-22edfeb9cb27",
   "metadata": {},
   "outputs": [
    {
     "name": "stdout",
     "output_type": "stream",
     "text": [
      "[('Name', 'Ram'), ('Name', 'Pooja'), ('Age', 21), ('Gender', 'Male'), ('Age', 23), ('Gender', 'Female')]\n",
      "{'Name': ['Ram', 'Pooja'], 'Age': [21, 23], 'Gender': ['Male', 'Female']}\n"
     ]
    }
   ],
   "source": [
    "# 19. Write a Python program to convert a list of tuples into a dictionary\n",
    "# Sample Output\n",
    "# [ (\"Name\", \"Ram\"), (\"Name\", \"Pooja\"), (\"Age\", 21), (\"Gender\", \"Male\"), (\"Age\", 23), (\"Gender\", \n",
    "# \"Female\") ]\n",
    "# { 'Name' : ['Ram', 'Pooja'], 'Age' : [21, 23], 'Gender' : ['Male', 'Female'] }\n",
    "\n",
    "from collections import defaultdict\n",
    "\n",
    "\n",
    "my_list = [\n",
    "    (\"Name\", \"Ram\"), (\"Name\", \"Pooja\"), \n",
    "    (\"Age\", 21), (\"Gender\", \"Male\"),\n",
    "    (\"Age\", 23), (\"Gender\", \"Female\")\n",
    "]\n",
    "my_dict = defaultdict(list)\n",
    "\n",
    "\n",
    "for key, value in my_list:\n",
    "    my_dict[key].append(value)\n",
    "\n",
    "final_dict = dict(my_dict)\n",
    "\n",
    "print(my_list)\n",
    "print(final_dict)\n"
   ]
  },
  {
   "cell_type": "code",
   "execution_count": 23,
   "id": "94edbf38-bfca-44ee-9e07-013deaabeb57",
   "metadata": {},
   "outputs": [
    {
     "name": "stdout",
     "output_type": "stream",
     "text": [
      "Fruits ('watermelons', 'strawberries', 'mangoes', 'bananas', 'grapefruits', 'oranges', 'apples', 'pears')\n"
     ]
    }
   ],
   "source": [
    "# 20. Write a Python program to print a tuple with string formatting\n",
    "# Sample Output\n",
    "# (\"watermelons\", \"strawberries\", \"mangoes\", \"bananas\", \"grapefruits\", \"oranges\", \"apples\", \n",
    "# \"pears\")\n",
    "# Fruits ('watermelons', 'strawberries', 'mangoes', 'bananas', 'grapefruits', 'oranges', 'apples', \n",
    "# 'pears')\n",
    "\n",
    "\n",
    "\n",
    "fruits = (\"watermelons\", \"strawberries\", \"mangoes\", \"bananas\", \"grapefruits\", \"oranges\", \"apples\", \"pears\")\n",
    "\n",
    "\n",
    "print(\"Fruits\", fruits)"
   ]
  },
  {
   "cell_type": "code",
   "execution_count": 24,
   "id": "9ec84abe-e49c-4c72-924c-d6a9c5cbfea6",
   "metadata": {},
   "outputs": [
    {
     "name": "stdout",
     "output_type": "stream",
     "text": [
      "Create a tuple with Item = 23\n",
      "Type = <class 'tuple'>\n"
     ]
    }
   ],
   "source": [
    "# 21. Create a tuple with single item 23\n",
    "# Sample Output\n",
    "# Create a tuple with Item = 23\n",
    "# Type = tuple\n",
    "\n",
    "\n",
    "\n",
    "single_item_tuple = (23,)\n",
    "\n",
    "\n",
    "print(\"Create a tuple with Item =\", single_item_tuple[0])\n",
    "print(\"Type =\", type(single_item_tuple))\n"
   ]
  },
  {
   "cell_type": "code",
   "execution_count": 25,
   "id": "8c700bbd-d28d-4f23-b55c-dfae94b4bdeb",
   "metadata": {},
   "outputs": [
    {
     "name": "stdout",
     "output_type": "stream",
     "text": [
      "Tuple = (11, 22, 333, 44, 55)\n",
      "11\n",
      "22\n",
      "333\n",
      "44\n",
      "55\n"
     ]
    }
   ],
   "source": [
    "# 22. Unpack the tuple into 5 variables\n",
    "# Sample Output\n",
    "# Tuple = (11, 22, 333, 44, 55)\n",
    "# 11\n",
    "# 22\n",
    "# 33\n",
    "# 44\n",
    "# 55\n",
    "\n",
    "\n",
    "\n",
    "my_tuple = (11, 22, 333, 44, 55)\n",
    "\n",
    "\n",
    "a, b, c, d, e = my_tuple\n",
    "\n",
    "\n",
    "print(\"Tuple =\", my_tuple)\n",
    "print(a)\n",
    "print(b)\n",
    "print(c)\n",
    "print(d)\n",
    "print(e)"
   ]
  },
  {
   "cell_type": "code",
   "execution_count": 26,
   "id": "4722609d-f293-43d1-99dd-91fcec824416",
   "metadata": {},
   "outputs": [
    {
     "name": "stdout",
     "output_type": "stream",
     "text": [
      "Before Swap A: 10\n",
      "Before Swap B: 20\n",
      "After Swap A: 20\n",
      "After Swap B: 10\n"
     ]
    }
   ],
   "source": [
    "# 23. Swap two tuples in Python\n",
    "# Sample Output\n",
    "# Before Swap A : 10\n",
    "# Before Swap B : 20\n",
    "# After Swap A : 20\n",
    "# After Swap B : 10\n",
    "\n",
    "\n",
    "\n",
    "\n",
    "A = (10,)\n",
    "B = (20,)\n",
    "\n",
    "\n",
    "print(\"Before Swap A:\", A[0])\n",
    "print(\"Before Swap B:\", B[0])\n",
    "\n",
    "A, B = B, A\n",
    "\n",
    "print(\"After Swap A:\", A[0])\n",
    "print(\"After Swap B:\", B[0])"
   ]
  },
  {
   "cell_type": "code",
   "execution_count": 27,
   "id": "787da7fd-25ac-4b70-9a7d-631f804a9df6",
   "metadata": {},
   "outputs": [
    {
     "name": "stdout",
     "output_type": "stream",
     "text": [
      "(10, 20, 30, 40, 50, 60, 70, 80, 90, 100)\n",
      "(30, 40, 50, 60, 70, 80)\n"
     ]
    }
   ],
   "source": [
    "# 24. Copy specific elements from one tuple to a new tuple\n",
    "# Sample Output\n",
    "# (10, 20, 30, 40, 50, 60, 70, 80, 90, 100)\n",
    "# (30, 40, 50, 60, 70, 80)\n",
    "\n",
    "\n",
    "\n",
    "original_tuple = (10, 20, 30, 40, 50, 60, 70, 80, 90, 100)\n",
    "\n",
    "\n",
    "new_tuple = original_tuple[2:8]\n",
    "\n",
    "\n",
    "print(original_tuple)\n",
    "print(new_tuple)"
   ]
  },
  {
   "cell_type": "code",
   "execution_count": 29,
   "id": "bfce7b35-5b26-4d3a-8cd1-fc50fc250432",
   "metadata": {},
   "outputs": [
    {
     "name": "stdout",
     "output_type": "stream",
     "text": [
      "(10, 20, 30, 40, 50)\n",
      "(10, 20, 33, 40, 50)\n"
     ]
    }
   ],
   "source": [
    "# 25. Modify the tuple\n",
    "# Sample Output\n",
    "# ( 10, 20, 30, 40, 50 )\n",
    "# ( 10, 20, 33, 40, 50 )\n",
    "\n",
    "\n",
    "my_tuple = (10, 20, 30, 40, 50)\n",
    "\n",
    "\n",
    "temp_list = list(my_tuple)\n",
    "temp_list[2] = 33  # Changing the 3rd element (index 2)\n",
    "\n",
    "\n",
    "modified_tuple = tuple(temp_list)\n",
    "\n",
    "print(my_tuple)\n",
    "print(modified_tuple)\n"
   ]
  },
  {
   "cell_type": "code",
   "execution_count": 30,
   "id": "41ef0127-2033-4677-8e12-6930a35a583c",
   "metadata": {},
   "outputs": [
    {
     "name": "stdout",
     "output_type": "stream",
     "text": [
      "(('a', 53), ('b', 37), ('c', 23), ('d', 1), ('e', 18))\n",
      "(('d', 1), ('e', 18), ('c', 23), ('b', 37), ('a', 53))\n"
     ]
    }
   ],
   "source": [
    "# 26. Sort a tuple of tuples by 2nd item\n",
    "# Sample Output\n",
    "# ( ('a', 53), ('b', 37), ('c', 23), ('d', 1), ('e', 18) )\n",
    "# ( ('d', 1), ('e', 18), ('c', 23), ('b', 37), ('a', 53) )\n",
    "\n",
    "\n",
    "\n",
    "tuple_data = (('a', 53), ('b', 37), ('c', 23), ('d', 1), ('e', 18))\n",
    "\n",
    "sorted_tuple = tuple(sorted(tuple_data, key=lambda x: x[1]))\n",
    "\n",
    "print(tuple_data)\n",
    "print(sorted_tuple)\n"
   ]
  },
  {
   "cell_type": "code",
   "execution_count": 31,
   "id": "595c9e0a-708b-460e-8dcb-033717a55dab",
   "metadata": {},
   "outputs": [
    {
     "name": "stdout",
     "output_type": "stream",
     "text": [
      "(30, 50, 10, 30, 70, 50, 30)\n",
      "Number of Counts 30 : 3\n"
     ]
    }
   ],
   "source": [
    "# 27. Counts the number of occurrences of item 30 from a tuple\n",
    "# Sample Output\n",
    "# (30, 50, 10, 30, 70, 50, 30)\n",
    "# Number of Counts 30 : 3\n",
    "\n",
    "\n",
    "\n",
    "my_tuple = (30, 50, 10, 30, 70, 50, 30)\n",
    "\n",
    "count_30 = my_tuple.count(30)\n",
    "\n",
    "print(my_tuple)\n",
    "print(\"Number of Counts 30 :\", count_30)\n"
   ]
  },
  {
   "cell_type": "code",
   "execution_count": 32,
   "id": "f564ae94-585a-4abb-aa92-31827a8ff60b",
   "metadata": {},
   "outputs": [
    {
     "name": "stdout",
     "output_type": "stream",
     "text": [
      "A = (2, 5, 8)\n",
      "B = (6, 5, 1)\n",
      "C = (1, 4, 7)\n",
      "D = (3, 7, 2)\n",
      "Sum of Elements = (12, 21, 18)\n"
     ]
    }
   ],
   "source": [
    "# 28. Write a Python program to compute element-wise sum of given tuples\n",
    "# Sample Output\n",
    "# A = (2, 5, 8)\n",
    "# B = (6, 5, 1)\n",
    "# C = (1, 4, 7)\n",
    "# D = (3, 7, 2)\n",
    "# Sum of Elements = (12, 21, 18)\n",
    "\n",
    "\n",
    "A = (2, 5, 8)\n",
    "B = (6, 5, 1)\n",
    "C = (1, 4, 7)\n",
    "D = (3, 7, 2)\n",
    "\n",
    "\n",
    "sum_tuple = tuple(sum(values) for values in zip(A, B, C, D))\n",
    "\n",
    "\n",
    "print(\"A =\", A)\n",
    "print(\"B =\", B)\n",
    "print(\"C =\", C)\n",
    "print(\"D =\", D)\n",
    "print(\"Sum of Elements =\", sum_tuple)"
   ]
  },
  {
   "cell_type": "code",
   "execution_count": 33,
   "id": "f01a7701-3737-4bca-b7c9-867fed34eb1d",
   "metadata": {},
   "outputs": [
    {
     "name": "stdout",
     "output_type": "stream",
     "text": [
      "Before Sorting: [('Ram', '89.20'), ('Siva', '76.45'), ('Pooja', '84.40'), ('Tara', '68.43'), ('Jeeva', '91.40')]\n",
      "After Sorting: [('Jeeva', '91.40'), ('Ram', '89.20'), ('Pooja', '84.40'), ('Siva', '76.45'), ('Tara', '68.43')]\n"
     ]
    }
   ],
   "source": [
    "# 29. Write a Python program to sort a tuple by its float element\n",
    "# Sample Output\n",
    "# [ ('Ram', '89.20'), ('Siva', '76.45'), ('Pooja', '84.40'), ('Tara', '68.43'), ('Jeeva', '91.40') ]\n",
    "# [ ('Jeeva', '91.40'), ('Ram', '89.20'), ('Pooja', '84.40'), ('Siva', '76.45'), ('Tara', '68.43') ]\n",
    "\n",
    "\n",
    "data = [('Ram', '89.20'), ('Siva', '76.45'), ('Pooja', '84.40'), ('Tara', '68.43'), ('Jeeva', '91.40')]\n",
    "\n",
    "sorted_data = sorted(data, key=lambda x: float(x[1]), reverse=True)\n",
    "\n",
    "print(\"Before Sorting:\", data)\n",
    "print(\"After Sorting:\", sorted_data)"
   ]
  },
  {
   "cell_type": "code",
   "execution_count": 34,
   "id": "5e834bf2-9774-409c-a39d-c061eb19fc3d",
   "metadata": {},
   "outputs": [
    {
     "name": "stdout",
     "output_type": "stream",
     "text": [
      "Before Replacement: [(5, 2, 3), (4, 7, 6), (8, 9, 6)]\n",
      "After Replacement: [(5, 2, 10), (4, 7, 10), (8, 9, 10)]\n"
     ]
    }
   ],
   "source": [
    "# 30. Write a Python program to replace last value of tuples in a list\n",
    "# Sample Output\n",
    "# [(5, 2, 3), (4, 7, 6), (8, 9, 6)]\n",
    "# Replace value = 10\n",
    "# [(5, 2, 10),(4, 7, 10),(8, 9, 10)]\n",
    "\n",
    "data = [(5, 2, 3), (4, 7, 6), (8, 9, 6)]\n",
    "\n",
    "replace_value = 10\n",
    "\n",
    "updated_data = [t[:-1] + (replace_value,) for t in data]\n",
    "\n",
    "print(\"Before Replacement:\", data)\n",
    "print(\"After Replacement:\", updated_data)\n"
   ]
  },
  {
   "cell_type": "code",
   "execution_count": 35,
   "id": "1dfd0ebe-788c-420d-89c5-420fde171098",
   "metadata": {},
   "outputs": [
    {
     "name": "stdout",
     "output_type": "stream",
     "text": [
      "Original List: [(47, 23), (3, 78), (22, 53), (121, 45), (7,)]\n",
      "Tuples with 2-digit elements: [(47, 23), (22, 53)]\n"
     ]
    }
   ],
   "source": [
    "# 31. Write a Python program to Extract tuples having K digit elements\n",
    "# Sample Output\n",
    "# [ (47, 23), (3, 78), (22, 53), (121, 45), (7,) ]\n",
    "# K = 2\n",
    "# [ (47, 23), (22, 53) ]\n",
    "\n",
    "\n",
    "\n",
    "data = [(47, 23), (3, 78), (22, 53), (121, 45), (7,)]\n",
    "\n",
    "K = 2\n",
    "\n",
    "filtered_data = [t for t in data if all(10**(K-1) <= num < 10**K for num in t)]\n",
    "\n",
    "print(\"Original List:\", data)\n",
    "print(f\"Tuples with {K}-digit elements:\", filtered_data)"
   ]
  },
  {
   "cell_type": "code",
   "execution_count": 36,
   "id": "de74e9b8-932d-4a5c-8d5c-ba2aa9c94deb",
   "metadata": {},
   "outputs": [
    {
     "name": "stdout",
     "output_type": "stream",
     "text": [
      "Original List: [(18, 23), (2, 9), (7, 6), (9, 2), (10, 2), (23, 18)]\n",
      "Symmetric Tuples: {(2, 9), (18, 23)}\n"
     ]
    }
   ],
   "source": [
    "# 32. Write a Python program to Extract Symmetric Tuples\n",
    "# Sample Output\n",
    "# [ (18, 23), (2, 9), (7, 6), (9, 2), (10, 2), (23, 18) ]\n",
    "# { (2, 9), (18, 23) }\n",
    "\n",
    "\n",
    "\n",
    "data = [(18, 23), (2, 9), (7, 6), (9, 2), (10, 2), (23, 18)]\n",
    "\n",
    "symmetric_tuples = {tuple(sorted(t)) for t in data if tuple(reversed(t)) in data}\n",
    "\n",
    "print(\"Original List:\", data)\n",
    "print(\"Symmetric Tuples:\", symmetric_tuples)"
   ]
  },
  {
   "cell_type": "code",
   "execution_count": 37,
   "id": "70215537-85c3-4fa5-be9c-c54cfa731a14",
   "metadata": {},
   "outputs": [
    {
     "name": "stdout",
     "output_type": "stream",
     "text": [
      "Original List: [(4, 5, 5, 7), (1, 3, 7, 4), (19, 4, 5, 3), (1, 2)]\n",
      "Sorted List: [(19, 4, 5, 3), (4, 5, 5, 7), (1, 3, 7, 4), (1, 2)]\n"
     ]
    }
   ],
   "source": [
    "# 33. Write a Python program to Sort Tuples by their Maximum element\n",
    "# Sample Output\n",
    "# [ (4, 5, 5, 7), (1, 3, 7, 4), (19, 4, 5, 3), (1, 2) ]\n",
    "# [ (19, 4, 5, 3), (4, 5, 5, 7), (1, 3, 7, 4), (1, 2) ]\n",
    "\n",
    "\n",
    "\n",
    "data = [(4, 5, 5, 7), (1, 3, 7, 4), (19, 4, 5, 3), (1, 2)]\n",
    "\n",
    "\n",
    "sorted_tuples = sorted(data, key=max, reverse=True)\n",
    "\n",
    "\n",
    "print(\"Original List:\", data)\n",
    "print(\"Sorted List:\", sorted_tuples)"
   ]
  },
  {
   "cell_type": "code",
   "execution_count": 38,
   "id": "3c378e63-697c-4636-b500-56e849b74a01",
   "metadata": {},
   "outputs": [
    {
     "name": "stdout",
     "output_type": "stream",
     "text": [
      "Original Tuple: (10, 20, (30,), 40, (50, 60), 70)\n",
      "Removal of Nested Tuple: (10, 20, 40, 70)\n"
     ]
    }
   ],
   "source": [
    "# 34. Write a Python program to Remove nested records from tuple\n",
    "# Sample Output\n",
    "# (10, 20, (30,), 40, (50, 60), 70)\n",
    "# Removal of Nested Tuple : (10, 20, 40, 70)\n",
    "\n",
    "\n",
    "data = (10, 20, (30,), 40, (50, 60), 70)\n",
    "\n",
    "filtered_tuple = tuple(item for item in data if not isinstance(item, tuple))\n",
    "\n",
    "print(\"Original Tuple:\", data)\n",
    "print(\"Removal of Nested Tuple:\", filtered_tuple)"
   ]
  },
  {
   "cell_type": "code",
   "execution_count": 39,
   "id": "65aa4b85-3b3c-40e0-849c-bb099297497a",
   "metadata": {},
   "outputs": [
    {
     "name": "stdout",
     "output_type": "stream",
     "text": [
      "Original Tuple: (10, 20, (20, 10), 30, (40, 50, 60), 60, 70)\n",
      "Elements Frequency: {10: 2, 20: 2, 30: 1, 40: 1, 50: 1, 60: 2, 70: 1}\n"
     ]
    }
   ],
   "source": [
    "# 35. Write a Python program to Elements Frequency in Mixed Nested Tuple\n",
    "# Sample Output\n",
    "# (10, 20, (20, 10), 30, (40, 50, 60), 60, 70)\n",
    "# Elements Frequency : {10: 2, 20: 2, 30: 1, 40: 1, 50: 1, 60: 2, 70: 1}\n",
    "\n",
    "\n",
    "from collections import Counter\n",
    "\n",
    "\n",
    "data = (10, 20, (20, 10), 30, (40, 50, 60), 60, 70)\n",
    "\n",
    "flat_list = []\n",
    "for item in data:\n",
    "    if isinstance(item, tuple):  # If item is a tuple, unpack its elements\n",
    "        flat_list.extend(item)\n",
    "    else:\n",
    "        flat_list.append(item)\n",
    "\n",
    "frequency = Counter(flat_list)\n",
    "\n",
    "print(\"Original Tuple:\", data)\n",
    "print(\"Elements Frequency:\", dict(frequency))"
   ]
  },
  {
   "cell_type": "code",
   "execution_count": 40,
   "id": "755a8425-dd90-4bc0-83fc-9a2a62f05316",
   "metadata": {},
   "outputs": [
    {
     "name": "stdout",
     "output_type": "stream",
     "text": [
      "[1, 2, 3, 4, 5, 6, 7, 9, 10]\n"
     ]
    }
   ],
   "source": [
    "# 36. Write a Python program to get unique elements in nested tuple\n",
    "# Sample Output\n",
    "# [ (1, 3, 5), (4, 5, 7), (1, 2, 6), (10, 9), (10,) ]\n",
    "# Unique Element in Nested Tuples : [1, 3, 5, 4, 7, 2, 6, 10, 9]\n",
    "\n",
    "\n",
    "data = [(1, 3, 5), (4, 5, 7), (1, 2, 6), (10, 9), (10,)]  \n",
    "unique_elements = sorted(set(sum(data, ())))  \n",
    "print(unique_elements)\n"
   ]
  },
  {
   "cell_type": "code",
   "execution_count": 41,
   "id": "7297918a-2042-4214-8bda-8a898cb1c6fd",
   "metadata": {},
   "outputs": [
    {
     "name": "stdout",
     "output_type": "stream",
     "text": [
      "Tuples after Concatenating: ((18, 23, 2, 9), (10, 3, 11))\n"
     ]
    }
   ],
   "source": [
    "# 37. Write a Python program to Concatenate tuples to nested tuples\n",
    "# Sample Output\n",
    "# Tuple 1 : ((18, 23, 2, 9),)\n",
    "# Tuple 2 : ((10, 3, 11),)\n",
    "# Tuples after Concatenating : ((18, 23, 2, 9), (10, 3, 11))\n",
    "\n",
    "tuple1 = ((18, 23, 2, 9),)\n",
    "tuple2 = ((10, 3, 11),)\n",
    "\n",
    "result = tuple1 + tuple2\n",
    "print(\"Tuples after Concatenating:\", result)\n"
   ]
  },
  {
   "cell_type": "code",
   "execution_count": 42,
   "id": "cb680e21-9f40-4aae-abe8-d46cc3bbe133",
   "metadata": {},
   "outputs": [
    {
     "name": "stdout",
     "output_type": "stream",
     "text": [
      "Sorted List of tuples: [(2, 7), (3, 7), (8, 7), (2, 5), (6, 5), (9, 8)]\n"
     ]
    }
   ],
   "source": [
    "# 38. Write a Python program to Sort by Frequency of second element in Tuple List\n",
    "# Sample Output\n",
    "# [ (2, 7), (3, 7), (2, 5), (8, 7), (6, 5), (9, 8) ]\n",
    "# Sorted List of tuples : [ (2, 7), (3, 7), (8, 7), (2, 5), (6, 5), (9, 8) ]\n",
    "\n",
    "\n",
    "from collections import Counter\n",
    "\n",
    "\n",
    "data = [(2, 7), (3, 7), (2, 5), (8, 7), (6, 5), (9, 8)]\n",
    "\n",
    "\n",
    "freq = Counter(y for _, y in data)\n",
    "\n",
    "sorted_data = sorted(data, key=lambda x: freq[x[1]], reverse=True)\n",
    "\n",
    "print(\"Sorted List of tuples:\", sorted_data)"
   ]
  },
  {
   "cell_type": "code",
   "execution_count": 43,
   "id": "054d0528-151a-4ed6-87bf-8fb5cd47ac78",
   "metadata": {},
   "outputs": [
    {
     "name": "stdout",
     "output_type": "stream",
     "text": [
      "Tuple after sorting list: ([10, 50, 60], [20, 30, 80], [40, 70, 100], (90,))\n"
     ]
    }
   ],
   "source": [
    "# 39. Write a Python program to Sort lists in tuple\n",
    "# Sample Output\n",
    "# ( [10, 50, 60], [80, 20, 30], [70, 100, 40], (90,) )\n",
    "# Tuple after sorting list : ( [10, 50, 60], [20, 30, 80], [40, 70, 100], [90] )\n",
    "\n",
    "\n",
    "\n",
    "data = ([10, 50, 60], [80, 20, 30], [70, 100, 40], (90,))\n",
    "\n",
    "\n",
    "sorted_data = tuple(sorted(lst) if isinstance(lst, list) else lst for lst in data)\n",
    "\n",
    "print(\"Tuple after sorting list:\", sorted_data)"
   ]
  },
  {
   "cell_type": "code",
   "execution_count": 44,
   "id": "dc67568b-f7ee-459c-bd9a-a910c0acf26d",
   "metadata": {},
   "outputs": [
    {
     "name": "stdout",
     "output_type": "stream",
     "text": [
      "Ordered Tuple List: [('A', 67), ('B', 68), ('C', 69), ('D', 70)]\n"
     ]
    }
   ],
   "source": [
    "# 40. Write a Python program to Order Tuples using external List\n",
    "# Sample Output\n",
    "# [ ('B', 68), ('D', 70), ('A', 67), ('C', 69) ]\n",
    "# Ordered Tuple List : [ ('A', 67), ('B', 68), ('C', 69), ('D', 70) ]\n",
    "\n",
    "\n",
    "tuple_list = [('B', 68), ('D', 70), ('A', 67), ('C', 69)]\n",
    "\n",
    "order = ['A', 'B', 'C', 'D']\n",
    "\n",
    "ordered_tuples = sorted(tuple_list, key=lambda x: order.index(x[0]))\n",
    "\n",
    "print(\"Ordered Tuple List:\", ordered_tuples)\n"
   ]
  },
  {
   "cell_type": "code",
   "execution_count": 45,
   "id": "3e0a8ca8-2e04-48f2-9d3f-543356328882",
   "metadata": {},
   "outputs": [
    {
     "name": "stdout",
     "output_type": "stream",
     "text": [
      "Filtered tuples: [('D', 70), ('A', 67)]\n"
     ]
    }
   ],
   "source": [
    "# 41. Write a Python program to Filter Tuples by Kth element from List\n",
    "# Sample Output\n",
    "# [ ('B', 68), ('D', 70), ('A', 67), ('C', 69) ]\n",
    "# List of kth elements to filter = [67 , 70 , 71, 75]\n",
    "# Kth element index = 1\n",
    "# Filtered tuples : [('D', 70), ('A', 67)]\n",
    "\n",
    "\n",
    "\n",
    "\n",
    "tuple_list = [('B', 68), ('D', 70), ('A', 67), ('C', 69)]\n",
    "\n",
    "filter_list = [67, 70, 71, 75]\n",
    "\n",
    "k = 1\n",
    "\n",
    "filtered_tuples = [tup for tup in tuple_list if tup[k] in filter_list]\n",
    "\n",
    "print(\"Filtered tuples:\", filtered_tuples)\n"
   ]
  },
  {
   "cell_type": "code",
   "execution_count": 46,
   "id": "79d26d79-5e52-4e9e-bfde-dd1fb6e26b62",
   "metadata": {},
   "outputs": [
    {
     "name": "stdout",
     "output_type": "stream",
     "text": [
      "Nearest Tuple: (9, 2)\n"
     ]
    }
   ],
   "source": [
    "# 42. Write a Python program to Closest Pair to Kth index element in Tuple\n",
    "# Sample Output\n",
    "# [ (23, 18), (9, 2), (2, 3), (9, 18), (23, 2) ]\n",
    "# Given Tuple = (20, 2)\n",
    "# Kth Element Index = 1\n",
    "# Nearest Tuple : (23, 18)\n",
    "\n",
    "\n",
    "\n",
    "tuple_list = [(23, 18), (9, 2), (2, 3), (9, 18), (23, 2)]\n",
    "\n",
    "given_tuple = (20, 2)\n",
    "\n",
    "k = 1\n",
    "\n",
    "nearest_tuple = min(tuple_list, key=lambda x: abs(x[k] - given_tuple[k]))\n",
    "\n",
    "print(\"Nearest Tuple:\", nearest_tuple)"
   ]
  },
  {
   "cell_type": "code",
   "execution_count": 47,
   "id": "4f6d90f8-ba62-4375-ae5e-161bdb30855b",
   "metadata": {},
   "outputs": [
    {
     "name": "stdout",
     "output_type": "stream",
     "text": [
      "Intersection: {(4, 5), (5, 6), (3, 4)}\n"
     ]
    }
   ],
   "source": [
    "# 43. Write a Python program to Tuple List intersection (Order irrespective)\n",
    "# Sample Output\n",
    "# List 1 : [ (3, 4), (5, 6), (9, 10), (4, 5) ]\n",
    "# List 2 : [ (5, 4), (3, 4), (6, 5), (9, 11) ]\n",
    "# Intersection : { (4, 5), (5, 6), (3, 4) }\n",
    "\n",
    "\n",
    "list1 = [(3, 4), (5, 6), (9, 10), (4, 5)]\n",
    "list2 = [(5, 4), (3, 4), (6, 5), (9, 11)]\n",
    "\n",
    "set1 = {tuple(sorted(t)) for t in list1}\n",
    "set2 = {tuple(sorted(t)) for t in list2}\n",
    "\n",
    "intersection = set1 & set2\n",
    "\n",
    "\n",
    "print(\"Intersection:\", intersection)"
   ]
  },
  {
   "cell_type": "code",
   "execution_count": 49,
   "id": "062cb05c-c92e-43f5-a52e-dc6501a5e2c1",
   "metadata": {},
   "outputs": [
    {
     "name": "stdout",
     "output_type": "stream",
     "text": [
      "Intersection of data records: [('A', 65), ('D', 68)]\n"
     ]
    }
   ],
   "source": [
    "# 44. Write a Python program to Intersection in Tuple Records Data\n",
    "# Sample Output\n",
    "# list 1 : [ ('A', 65), ('D', 68), ('B', 66) ]\n",
    "# list 2 : [ ('D', 68), ('C', 67), ('A', 65) ]\n",
    "# Intersection of data records : [ ('A', 65), ('D', 68) ]\n",
    "\n",
    "\n",
    "\n",
    "list1 = [('A', 65), ('D', 68), ('B', 66)]\n",
    "list2 = [('D', 68), ('C', 67), ('A', 65)]\n",
    "\n",
    "\n",
    "intersection = list(set(list1) & set(list2))\n",
    "\n",
    "\n",
    "print(\"Intersection of data records:\", intersection)"
   ]
  },
  {
   "cell_type": "code",
   "execution_count": 50,
   "id": "2b0b29e3-9e33-45fe-a74d-c935c07ba35d",
   "metadata": {},
   "outputs": [
    {
     "name": "stdout",
     "output_type": "stream",
     "text": [
      "Unique tuples Frequency: [(1, 2), (3, 4), (5, 6)]\n",
      "Unique tuples Frequency Count: 3\n"
     ]
    }
   ],
   "source": [
    "# 45. Write a Python program to Unique Tuple Frequency (Order Irrespective)\n",
    "# Sample Output\n",
    "# [ (3, 4), (1, 2), (4, 3), (5, 6) ]\n",
    "# Unique tuples Frequency : [(1, 2), (3, 4), (5, 6)]\n",
    "# Unique tuples Frequency Count : 3\n",
    "\n",
    "from collections import Counter\n",
    "\n",
    "\n",
    "\n",
    "tuples_list = [(3, 4), (1, 2), (4, 3), (5, 6)]\n",
    "\n",
    "\n",
    "normalized_tuples = [tuple(sorted(t)) for t in tuples_list]\n",
    "\n",
    "\n",
    "\n",
    "unique_tuples = list(set(normalized_tuples))\n",
    "unique_count = len(unique_tuples)\n",
    "\n",
    "\n",
    "\n",
    "print(\"Unique tuples Frequency:\", unique_tuples)\n",
    "print(\"Unique tuples Frequency Count:\", unique_count)\n"
   ]
  },
  {
   "cell_type": "code",
   "execution_count": 58,
   "id": "b2d523e8-c67c-4bbb-9414-c089ace72a4e",
   "metadata": {},
   "outputs": [
    {
     "name": "stdout",
     "output_type": "stream",
     "text": [
      "Summation of 1st positions: 15\n"
     ]
    }
   ],
   "source": [
    "# 46. Write a Python program to Skew Nested Tuple Summation\n",
    "# Sample Output\n",
    "# (1, (2, (3, (4, (5, None)))))\n",
    "# Summation of 1st positions : 15\n",
    "\n",
    "nested_tuple = (1, (2, (3, (4, (5, None)))))\n",
    "\n",
    "# Initialize sum\n",
    "total = 0\n",
    "\n",
    "# Iterate through the nested tuple\n",
    "while isinstance(nested_tuple, tuple):\n",
    "    total += nested_tuple[0]\n",
    "    nested_tuple = nested_tuple[1]  # Move to next nested part\n",
    "\n",
    "print(\"Summation of 1st positions:\", total)\n",
    "\n"
   ]
  },
  {
   "cell_type": "code",
   "execution_count": 59,
   "id": "fb55619b-80d5-4578-8240-03033f785334",
   "metadata": {},
   "outputs": [
    {
     "name": "stdout",
     "output_type": "stream",
     "text": [
      "Decimal number is: 10\n"
     ]
    }
   ],
   "source": [
    "# 47. Write a Python program to Convert Binary tuple to Integer\n",
    "# Sample Output\n",
    "# (1, 0, 1, 0)\n",
    "# Decimal number is : 10\n",
    "\n",
    "\n",
    "\n",
    "binary_tuple = (1, 0, 1, 0)\n",
    "\n",
    "decimal_number = int(\"\".join(map(str, binary_tuple)), 2)\n",
    "\n",
    "print(\"Decimal number is:\", decimal_number)\n"
   ]
  },
  {
   "cell_type": "code",
   "execution_count": 60,
   "id": "f0162c69-8099-42ba-a9e8-640907e989dd",
   "metadata": {},
   "outputs": [
    {
     "name": "stdout",
     "output_type": "stream",
     "text": [
      "XOR tuple: (15, 6, 5, 10)\n"
     ]
    }
   ],
   "source": [
    "# 48. Write a Python program to Tuple XOR operation\n",
    "# Sample Output\n",
    "# Tuple 1 : (10, 4, 6, 9)\n",
    "# Tuple 2 : (5, 2, 3, 3)\n",
    "# XOR tuple : (15, 6, 5, 10)\n",
    "\n",
    "\n",
    "tuple1 = (10, 4, 6, 9)\n",
    "tuple2 = (5, 2, 3, 3)\n",
    "\n",
    "\n",
    "xor_tuple = tuple(a ^ b for a, b in zip(tuple1, tuple2))\n",
    "\n",
    "print(\"XOR tuple:\", xor_tuple)"
   ]
  },
  {
   "cell_type": "code",
   "execution_count": 61,
   "id": "513c2ecd-bda9-46ff-9963-fd93dc82cd5b",
   "metadata": {},
   "outputs": [
    {
     "name": "stdout",
     "output_type": "stream",
     "text": [
      "AND operation Between Tuple: (0, 0, 2, 1)\n"
     ]
    }
   ],
   "source": [
    "# 49. Write a Python program to AND operation between Tuples\n",
    "# Sample Output\n",
    "# Tuple 1 : (10, 4, 6, 9)\n",
    "# Tuple 2 : (5, 2, 3, 3)\n",
    "# AND operation Between Tuple : (0, 0, 2, 1)\n",
    "\n",
    "\n",
    "\n",
    "tuple1 = (10, 4, 6, 9)\n",
    "tuple2 = (5, 2, 3, 3)\n",
    "\n",
    "\n",
    "and_tuple = tuple(a & b for a, b in zip(tuple1, tuple2))\n",
    "\n",
    "print(\"AND operation Between Tuple:\", and_tuple)"
   ]
  },
  {
   "cell_type": "code",
   "execution_count": 62,
   "id": "e5db1503-d203-4725-9a99-e6a84a2725b3",
   "metadata": {},
   "outputs": [
    {
     "name": "stdout",
     "output_type": "stream",
     "text": [
      "Tuple 1: (10, 4, 6, 9)\n",
      "Tuple 2: (5, 2, 3, 3)\n",
      "Elementwise AND Tuple: (0, 0, 2, 1)\n"
     ]
    }
   ],
   "source": [
    "# 50. Write a Python program to Elementwise AND in tuples\n",
    "# Sample Output\n",
    "# Tuple 1 : (10, 4, 6, 9)\n",
    "# Tuple 2 : (5, 2, 3, 3)\n",
    "# Elementwise AND Tuple : (0, 0, 2, 1)\n",
    "\n",
    "\n",
    "tuple1 = (10, 4, 6, 9)\n",
    "tuple2 = (5, 2, 3, 3)\n",
    "\n",
    "and_tuple = tuple(a & b for a, b in zip(tuple1, tuple2))\n",
    "\n",
    "print(\"Tuple 1:\", tuple1)\n",
    "print(\"Tuple 2:\", tuple2)\n",
    "print(\"Elementwise AND Tuple:\", and_tuple)"
   ]
  },
  {
   "cell_type": "code",
   "execution_count": null,
   "id": "8ace863e-bb36-45a4-82d7-82b49c888d23",
   "metadata": {},
   "outputs": [],
   "source": []
  }
 ],
 "metadata": {
  "kernelspec": {
   "display_name": "Python 3 (ipykernel)",
   "language": "python",
   "name": "python3"
  },
  "language_info": {
   "codemirror_mode": {
    "name": "ipython",
    "version": 3
   },
   "file_extension": ".py",
   "mimetype": "text/x-python",
   "name": "python",
   "nbconvert_exporter": "python",
   "pygments_lexer": "ipython3",
   "version": "3.11.7"
  }
 },
 "nbformat": 4,
 "nbformat_minor": 5
}
