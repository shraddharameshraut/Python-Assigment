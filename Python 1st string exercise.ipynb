{
 "cells": [
  {
   "cell_type": "markdown",
   "id": "78671fb5-2326-46a9-8214-2ee5498ef595",
   "metadata": {},
   "source": [
    "#\n",
    "Python String Exercises Answers"
   ]
  },
  {
   "cell_type": "code",
   "execution_count": 1,
   "id": "41040528-9032-444f-b829-d99c2484e901",
   "metadata": {},
   "outputs": [
    {
     "name": "stdout",
     "output_type": "stream",
     "text": [
      "Tutor Joes\n",
      "length of string- 10\n"
     ]
    }
   ],
   "source": [
    "#1. Write a Python program to calculate the length of a string.\n",
    "a = 'Tutor Joes'\n",
    "b = len(a)\n",
    "print(a)\n",
    "print('length of string-',b)"
   ]
  },
  {
   "cell_type": "code",
   "execution_count": 2,
   "id": "6d24ff8f-2a04-497a-a9bf-5cf19c1b3225",
   "metadata": {},
   "outputs": [
    {
     "name": "stdout",
     "output_type": "stream",
     "text": [
      "tutorjoes\n",
      "{'t': 2, 'u': 1, 'o': 2, 'r': 1, 'j': 1, 'e': 1, 's': 1}\n"
     ]
    }
   ],
   "source": [
    "#2. Write a Python program to count the number of characters (character frequency) in a string.\n",
    "#Sample Output\n",
    "#tutorjoes\n",
    "#{'t' : 2, 'u' : 1, 'o' : 2, 'r' : 1, 'j' : 1, 'e' : 1, 's' : 1}\n",
    "\n",
    "string = \"tutorjoes\"\n",
    "result = {}\n",
    "for char in string:\n",
    "    result[char] = result.get(char, 0) + 1\n",
    "print(string)\n",
    "print(result)"
   ]
  },
  {
   "cell_type": "code",
   "execution_count": 3,
   "id": "4e6dd1ce-2f8a-4411-866d-39d168a9fb49",
   "metadata": {},
   "outputs": [
    {
     "name": "stdout",
     "output_type": "stream",
     "text": [
      "tutor joes\n"
     ]
    }
   ],
   "source": [
    "#3. Write a Python program to get a string from a given string where all occurrences of its first char have been changed to '@', except the first char itself\n",
    "#Given String = tutor joes\r",
    "#After String = tu@or joe\n",
    "\n",
    "a = 'tutor joes'\n",
    "print(a)"
   ]
  },
  {
   "cell_type": "code",
   "execution_count": 4,
   "id": "af807305-0c78-4b75-82dd-a3918f0bae13",
   "metadata": {},
   "outputs": [
    {
     "name": "stdout",
     "output_type": "stream",
     "text": [
      "tu@or joes\n"
     ]
    }
   ],
   "source": [
    "a1 = a.replace('tutor', 'tu@or')\n",
    "print(a1)"
   ]
  },
  {
   "cell_type": "code",
   "execution_count": 5,
   "id": "5597caef-1917-41eb-87dc-e02f58815d62",
   "metadata": {
    "scrolled": true
   },
   "outputs": [
    {
     "name": "stdout",
     "output_type": "stream",
     "text": [
      "Given String = tutor joes\n",
      "After String = tu@or joes\n"
     ]
    }
   ],
   "source": [
    "print('Given String =',a)\n",
    "print('After String =',a1)"
   ]
  },
  {
   "cell_type": "code",
   "execution_count": 6,
   "id": "faa8b99d-9ce3-402f-a946-b618021c8b7f",
   "metadata": {},
   "outputs": [
    {
     "name": "stdout",
     "output_type": "stream",
     "text": [
      "abc xyz\n"
     ]
    }
   ],
   "source": [
    "#4. Write a Python program to get a single string from two given strings, separated by a space and swap the first two characters of each string.\n",
    "#Sample Output\n",
    "#Before Swap = abc xyz\n",
    "#After Swap = xyc abz\n",
    "a = 'abc xyz'\n",
    "print(a)"
   ]
  },
  {
   "cell_type": "code",
   "execution_count": 7,
   "id": "347379b1-dd0a-4f33-9c31-2195cd7fd020",
   "metadata": {},
   "outputs": [
    {
     "name": "stdout",
     "output_type": "stream",
     "text": [
      "xyc abz\n"
     ]
    }
   ],
   "source": [
    "a1 = a.replace('abc xyz','xyc abz' )\n",
    "print(a1)"
   ]
  },
  {
   "cell_type": "code",
   "execution_count": 8,
   "id": "2c6ace7d-7195-4e50-b9cb-462f4ae41cc5",
   "metadata": {},
   "outputs": [
    {
     "name": "stdout",
     "output_type": "stream",
     "text": [
      "Before Swap = abc xyz\n",
      "After Swap = xyc abz\n"
     ]
    }
   ],
   "source": [
    "print('Before Swap =',a)\n",
    "print('After Swap =',a1)"
   ]
  },
  {
   "cell_type": "code",
   "execution_count": 9,
   "id": "f0d65f80-5956-4005-baed-6bc828f591ca",
   "metadata": {},
   "outputs": [
    {
     "name": "stdout",
     "output_type": "stream",
     "text": [
      "Tutor Joes\n"
     ]
    }
   ],
   "source": [
    "#5. Write a Python program to remove the nth index character from a nonempty string.\n",
    "#Sample Output\n",
    "#Before Remove = Tutor Joes\n",
    "#Remove character = t\n",
    "#After Remove = Tuor Joes\n",
    "\n",
    "a = 'Tutor Joes'\n",
    "remove_char = 't'\n",
    "print(a)"
   ]
  },
  {
   "cell_type": "code",
   "execution_count": 10,
   "id": "3c469453-fb0f-471e-88d4-60af2e47cb0b",
   "metadata": {},
   "outputs": [
    {
     "name": "stdout",
     "output_type": "stream",
     "text": [
      "Tuor Joes\n"
     ]
    }
   ],
   "source": [
    "a1 = a.replace('t', '',2)\n",
    "print(a1)"
   ]
  },
  {
   "cell_type": "code",
   "execution_count": 11,
   "id": "6dadc37a-7c4e-460e-b4d9-b358b7a22d83",
   "metadata": {},
   "outputs": [
    {
     "name": "stdout",
     "output_type": "stream",
     "text": [
      "Before Remove = Tutor Joes\n",
      "Remove Character =  t\n",
      "After Remove =  Tuor Joes\n"
     ]
    }
   ],
   "source": [
    "print('Before Remove =',a)\n",
    "print('Remove Character = ',remove_char)\n",
    "print('After Remove = ',a1)\n"
   ]
  },
  {
   "cell_type": "code",
   "execution_count": 12,
   "id": "693dd38d-a3f7-4137-9758-7780e8d5e7ce",
   "metadata": {},
   "outputs": [
    {
     "name": "stdout",
     "output_type": "stream",
     "text": [
      "python\n"
     ]
    }
   ],
   "source": [
    "#6. Write a Python program to change a given string to a new string where the first and last chars have been exchanged\n",
    "#Sample Output\n",
    "#Before Exchange = Python\n",
    "#After Exchange = nythoP\n",
    "a = 'python'\n",
    "print(a)"
   ]
  },
  {
   "cell_type": "code",
   "execution_count": 13,
   "id": "367e4673-ff63-4656-83c9-a3f17e7207d2",
   "metadata": {},
   "outputs": [
    {
     "name": "stdout",
     "output_type": "stream",
     "text": [
      "Before Exchange = python\n",
      "After Exchange = nythop\n"
     ]
    }
   ],
   "source": [
    "b1 = a[-1]+a[1:-1]+a[0]\n",
    "print('Before Exchange =',a)\n",
    "print('After Exchange =',b1)"
   ]
  },
  {
   "cell_type": "code",
   "execution_count": 14,
   "id": "e6307d7c-f7fc-4502-a224-2a2e12c2b3ea",
   "metadata": {},
   "outputs": [
    {
     "name": "stdout",
     "output_type": "stream",
     "text": [
      "String =  Computer Education\n",
      "Remove Odd Index Char =  Cmue dcto\n"
     ]
    }
   ],
   "source": [
    "#7. Write a Python program to remove the characters which have odd index values of a given string\n",
    "#Sample Output\n",
    "#String = Computer Education\n",
    "#Remove Odd Index Char = Cmue dcto\n",
    "string = 'Computer Education'\n",
    "string[0::2]\n",
    "print('String = ',string)\n",
    "print('Remove Odd Index Char = ',string[0::2])"
   ]
  },
  {
   "cell_type": "code",
   "execution_count": 3,
   "id": "844ef40e-e402-433d-b089-f681e316a701",
   "metadata": {},
   "outputs": [
    {
     "name": "stdout",
     "output_type": "stream",
     "text": [
      "{'To': 2, 'change': 2, 'the': 3, 'overall': 1, 'look': 2, 'your': 1, 'document.': 1, 'available': 1, 'in': 1, 'gallery': 1}\n"
     ]
    }
   ],
   "source": [
    "#8. Write a Python program to count the occurrences of each word in a given sentence\n",
    "#Sample Output\n",
    "#string = To change the overall look your document. To change the look available in the gallery\n",
    "#{ 'To': 2, 'change': 2, 'the': 3, 'overall': 1, 'look': 2, 'your': 1, 'document.': 1, 'available': 1, 'in': 1, 'gallery': 1 }\n",
    "# Sample input\n",
    "\n",
    "string = \"To change the overall look your document. To change the look available in the gallery\"\n",
    "\n",
    "words = string.split()\n",
    "\n",
    "word_count = {}\n",
    "\n",
    "for word in words:\n",
    "    word_count[word] = word_count.get(word, 0) + 1\n",
    "\n",
    "print(word_count)\n",
    "\n"
   ]
  },
  {
   "cell_type": "code",
   "execution_count": null,
   "id": "19eb4ccd-7f75-405e-9b20-6f79b3586210",
   "metadata": {},
   "outputs": [],
   "source": [
    "#9. Write a Python script that takes input from the user and displays that input back in upper and lower cases.\n",
    "#Sample Output\n",
    "#Enter the String = Tutor Joes\n",
    "#Uppercase = TUTOR JOES\n",
    "#Lowercase = tutor joes\n",
    "a = input('Enter a String =')\n"
   ]
  },
  {
   "cell_type": "code",
   "execution_count": null,
   "id": "6e722229-4de1-4dfc-81c2-76a1636a3684",
   "metadata": {},
   "outputs": [],
   "source": [
    "\n",
    "print('Uppercase =',a.upper())\n",
    "print('Lowercase =', a.lower())\n"
   ]
  },
  {
   "cell_type": "code",
   "execution_count": null,
   "id": "665233b1-afa4-4e5f-8751-ad852c968b55",
   "metadata": {},
   "outputs": [],
   "source": [
    "#10. Write a Python function to reverses a string if it's length is a multiple of 4.\n",
    "#Sample Output\n",
    "#Enter the String = Computer\n",
    "#If the length is a multiple of 4 = retupmoC\n",
    "#Enter the String = Science\n",
    "#If the length is not a multiple of 4 = Science\n",
    "\n",
    "\n",
    "string = input(\"Enter the String = \")\n",
    "\n",
    "# Check if length is a multiple of 4 and reverse if true\n",
    "if len(string) % 4 == 0:\n",
    "    result = string[::-1]  # Reverse the string\n",
    "    print(\"If the length is a multiple of 4 =\", result)\n",
    "else:\n",
    "    print(\"If the length is not a multiple of 4 =\", string)"
   ]
  },
  {
   "cell_type": "code",
   "execution_count": 5,
   "id": "c5d69bd8-f4e4-4962-b96f-0b5535714454",
   "metadata": {},
   "outputs": [
    {
     "name": "stdin",
     "output_type": "stream",
     "text": [
      "Enter the String =  SHraddha\n"
     ]
    },
    {
     "name": "stdout",
     "output_type": "stream",
     "text": [
      "Check if there are at least 2 uppercase letters in the first 4 characters = SHRADDHA\n"
     ]
    }
   ],
   "source": [
    "#11. Write a Python function to convert a given string to all uppercase if it contains at least 2 uppercase characters in the first 4 characters.\n",
    "#Sample Output\n",
    "#Enter the String = ComPuTeR\n",
    "#Check if there are at least 2 uppercase letters in the first 4 characters = COMPUTER\n",
    "#Enter the String = Computer\n",
    "#Check if does not contain at least 2 uppercase letters in the first 4 characters = Computer\n",
    "\n",
    "string = input(\"Enter the String = \")\n",
    "uppercase_count = sum(1 for char in string[:4] if char.isupper())\n",
    "if uppercase_count >= 2:\n",
    "    result = string.upper()\n",
    "    print(\"Check if there are at least 2 uppercase letters in the first 4 characters =\", result)\n",
    "else:\n",
    "    print(\"Check if does not contain at least 2 uppercase letters in the first 4 characters =\", string)\n"
   ]
  },
  {
   "cell_type": "code",
   "execution_count": 8,
   "id": "4b5a3121-64c1-4a44-893e-6b6a00cd2a47",
   "metadata": {},
   "outputs": [
    {
     "name": "stdin",
     "output_type": "stream",
     "text": [
      "Enter the String =  shraddha\n"
     ]
    },
    {
     "name": "stdout",
     "output_type": "stream",
     "text": [
      "['a', 'a', 'd', 'd', 'h', 'h', 'r', 's']\n"
     ]
    }
   ],
   "source": [
    "#12. Write a Python program to sort a string lexicographically.\n",
    "#Sample Output\n",
    "#Enter the String = Tutor\n",
    "#['o', 'r', 'T', 't', 'u']\n",
    "\n",
    "string = input(\"Enter the String = \")\n",
    "sorted_string = sorted(string)\n",
    "print(sorted_string)\n",
    "\n"
   ]
  },
  {
   "cell_type": "code",
   "execution_count": 9,
   "id": "28752725-af2c-44f8-bbdc-0e3b959d83a8",
   "metadata": {},
   "outputs": [
    {
     "name": "stdout",
     "output_type": "stream",
     "text": [
      "Before Remove NewLine(\\n)\n",
      "\n",
      "Tutor \n",
      "Joes \n",
      "Computer \n",
      "Education\n",
      "\n",
      "After Remove NewLine(\\n) = Tutor  Joes  Computer  Education\n"
     ]
    }
   ],
   "source": [
    "#13. Write a Python program to remove a newline in Python.\n",
    "#Sample Output\n",
    "#String = \"\\nTutor \\nJoes \\nComputer \\nEducation\\n\"\n",
    "#Before Remove NewLine(\\n)\n",
    "#Tutor\n",
    "#Joes\n",
    "#Computer\n",
    "#Education\n",
    "#After Remove NewLine(\\n) = Tutor Joes Computer Education\n",
    "\n",
    "string = \"\\nTutor \\nJoes \\nComputer \\nEducation\\n\"\n",
    "print(\"Before Remove NewLine(\\\\n)\")\n",
    "print(string)  # Display with newlines\n",
    "modified_string = string.replace(\"\\n\", \" \").strip()\n",
    "\n",
    "\n",
    "print(\"After Remove NewLine(\\\\n) =\", modified_string)"
   ]
  },
  {
   "cell_type": "code",
   "execution_count": 10,
   "id": "401bd642-2207-45e8-8145-e6657bbf59cb",
   "metadata": {},
   "outputs": [
    {
     "name": "stdin",
     "output_type": "stream",
     "text": [
      "Enter the String =  Tutor Joes Computer Education\n",
      "Prefix to check =  Tu\n"
     ]
    },
    {
     "name": "stdout",
     "output_type": "stream",
     "text": [
      "Check if the input string starts with the prefix = True\n"
     ]
    }
   ],
   "source": [
    "#14. Write a Python program to check whether a string starts with specified characters.\n",
    "#Sample Output\n",
    "#Tutor Joes Computer Education\n",
    "#Prefix to check = Tu\n",
    "#Check if the input string starts with the prefix = True\n",
    "\n",
    "\n",
    "string = input(\"Enter the String = \")\n",
    "prefix = input(\"Prefix to check = \")\n",
    "\n",
    "\n",
    "result = string.startswith(prefix)\n",
    "\n",
    "\n",
    "print(\"Check if the input string starts with the prefix =\", result)"
   ]
  },
  {
   "cell_type": "code",
   "execution_count": 11,
   "id": "5dda014f-75dc-4871-8a69-f84f50e5056e",
   "metadata": {},
   "outputs": [
    {
     "name": "stdout",
     "output_type": "stream",
     "text": [
      "Formatted Text (Width 35) :\n",
      "Python is an interpreted, object-\n",
      "oriented, high-level programming\n",
      "language  that can be used for a\n",
      "wide variety of applications.\n",
      "Python is a powerful  general-\n",
      "purpose programming language.\n",
      "\n",
      "Formatted Text (Width 70) :\n",
      "Python is an interpreted, object-oriented, high-level programming\n",
      "language  that can be used for a wide variety of applications. Python\n",
      "is a powerful  general-purpose programming language.\n"
     ]
    }
   ],
   "source": [
    "#15. Write a Python program to display formatted text (width=35,70) as output.\n",
    "import textwrap\n",
    "\n",
    "text = \"\"\"Python is an interpreted, object-oriented, high-level programming language \n",
    "that can be used for a wide variety of applications. Python is a powerful \n",
    "general-purpose programming language.\"\"\"\n",
    "\n",
    "\n",
    "formatted_35 = textwrap.fill(text, width=35)\n",
    "print(\"Formatted Text (Width 35) :\")\n",
    "print(formatted_35)\n",
    "\n",
    "formatted_70 = textwrap.fill(text, width=70)\n",
    "print(\"\\nFormatted Text (Width 70) :\")\n",
    "print(formatted_70)\n"
   ]
  },
  {
   "cell_type": "code",
   "execution_count": 12,
   "id": "35d53aed-6c1c-4f1c-93ea-ce018d4bf59e",
   "metadata": {},
   "outputs": [
    {
     "name": "stdout",
     "output_type": "stream",
     "text": [
      "Formatted Text (Width 35) :\n",
      "Python is an interpreted, object-\n",
      "oriented, high-level programming\n",
      "language  that can be used for a\n",
      "wide variety of applications.\n",
      "Python is a powerful  general-\n",
      "purpose programming language.\n",
      "\n",
      "Formatted Text (Width 70) :\n",
      "Python is an interpreted, object-oriented, high-level programming\n",
      "language  that can be used for a wide variety of applications. Python\n",
      "is a powerful  general-purpose programming language.\n"
     ]
    }
   ],
   "source": [
    "#16. Write a Python program to remove existing indentation from all of the lines in a given text.\n",
    "#Sample Output\n",
    "#Original text :\n",
    "#              Python is an interpreted, object-oriented, high-level programming language\n",
    "#              that can be used for a wide variety of applications. Python is a powerful\n",
    "#              general-purpose programming language.\n",
    "#Dedented text :\n",
    "#Python is an interpreted, object-oriented, high-level programming language\n",
    "#that can be used for a wide variety of applications. Python is a powerful\n",
    "#general-purpose programming language.\n",
    "\n",
    "import textwrap\n",
    "\n",
    "text = \"\"\"Python is an interpreted, object-oriented, high-level programming language \n",
    "that can be used for a wide variety of applications. Python is a powerful \n",
    "general-purpose programming language.\"\"\"\n",
    "\n",
    "formatted_35 = textwrap.fill(text, width=35)\n",
    "print(\"Formatted Text (Width 35) :\")\n",
    "print(formatted_35)\n",
    "\n",
    "formatted_70 = textwrap.fill(text, width=70)\n",
    "print(\"\\nFormatted Text (Width 70) :\")\n",
    "print(formatted_70)\n"
   ]
  },
  {
   "cell_type": "code",
   "execution_count": null,
   "id": "ecbf7c5d-b0ec-456b-abe0-25b8d752128d",
   "metadata": {},
   "outputs": [],
   "source": []
  },
  {
   "cell_type": "code",
   "execution_count": 14,
   "id": "059c6102-8cca-49f7-ac40-d159c41e232f",
   "metadata": {},
   "outputs": [
    {
     "name": "stdin",
     "output_type": "stream",
     "text": [
      "Prefix to add to each line =  **\n"
     ]
    },
    {
     "name": "stdout",
     "output_type": "stream",
     "text": [
      "\n",
      "Display the Result:\n",
      "** Python is an interpreted, object-oriented, high-level programming language\n",
      "** that can be used for a wide variety of applications. Python is a powerful\n",
      "** general-purpose programming language.\n"
     ]
    }
   ],
   "source": [
    "# 17. Write a Python program to add a prefix text to all of the lines in a string.\n",
    "# Sample Output\n",
    "# #Text :\n",
    "#               Python is an interpreted, object-oriented, high-level programming language\n",
    "#               that can be used for a wide variety of applications. Python is a powerful\n",
    "#              general-purpose programming language.\n",
    "# refix to add to each line = *\n",
    "# Display the Result :\n",
    "#       *  Python is an interpreted, object-oriented, high-level programming language\n",
    "#       *  that can be used for a wide variety of applications. Python is a powerful\n",
    "#       *  general-purpose programming language.\n",
    "\n",
    "text = \"\"\"Python is an interpreted, object-oriented, high-level programming language\n",
    "that can be used for a wide variety of applications. Python is a powerful\n",
    "general-purpose programming language.\"\"\"\n",
    "\n",
    "prefix = input(\"Prefix to add to each line = \")\n",
    "formatted_text = \"\\n\".join(prefix + \" \" + line for line in text.splitlines())\n",
    "print(\"\\nDisplay the Result:\")\n",
    "print(formatted_text)\n"
   ]
  },
  {
   "cell_type": "code",
   "execution_count": null,
   "id": "ba102d87-3cf9-44b8-8ae9-1cdc5694ea23",
   "metadata": {},
   "outputs": [],
   "source": []
  }
 ],
 "metadata": {
  "kernelspec": {
   "display_name": "Python 3 (ipykernel)",
   "language": "python",
   "name": "python3"
  },
  "language_info": {
   "codemirror_mode": {
    "name": "ipython",
    "version": 3
   },
   "file_extension": ".py",
   "mimetype": "text/x-python",
   "name": "python",
   "nbconvert_exporter": "python",
   "pygments_lexer": "ipython3",
   "version": "3.11.7"
  }
 },
 "nbformat": 4,
 "nbformat_minor": 5
}
