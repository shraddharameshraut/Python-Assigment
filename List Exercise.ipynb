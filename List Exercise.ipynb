{
 "cells": [
  {
   "cell_type": "code",
   "execution_count": 1,
   "id": "cad0405c-9fe7-48f9-a86d-0a57a444db35",
   "metadata": {},
   "outputs": [
    {
     "name": "stdout",
     "output_type": "stream",
     "text": [
      "Sample List: [1, 7, -10, 34, 2, -8]\n",
      "Sum all the items = 26\n"
     ]
    }
   ],
   "source": [
    "# 1. Write a Python program to sum all the items\n",
    "# Sample Output\n",
    "# [1,7,-10,34,2,-8]\n",
    "# Sum all the items = 26\n",
    "numbers = [1, 7, -10, 34, 2, -8]\n",
    "total_sum = sum(numbers)\n",
    "print(\"Sample List:\", numbers)\n",
    "print(\"Sum all the items =\", total_sum)"
   ]
  },
  {
   "cell_type": "code",
   "execution_count": 2,
   "id": "45cc91a2-36bc-478e-921f-f72deb13241a",
   "metadata": {},
   "outputs": [
    {
     "name": "stdout",
     "output_type": "stream",
     "text": [
      "Sample List: [3, 4, 5, 4, 7]\n",
      "Multiply all the items in a list: 1680\n"
     ]
    }
   ],
   "source": [
    "# 2. Write a Python program to multiply all the items in a list\n",
    "# Sample Output\n",
    "# [3,4,5,4,7]\n",
    "# Multiply all the items in a list : 1680\n",
    "numbers = [3, 4, 5, 4, 7]\n",
    "product = 1\n",
    "\n",
    "for num in numbers:\n",
    "    product *= num\n",
    "\n",
    "print(\"Sample List:\", numbers)\n",
    "print(\"Multiply all the items in a list:\", product)\n"
   ]
  },
  {
   "cell_type": "code",
   "execution_count": 3,
   "id": "53e6a0e2-bf2f-46aa-bb67-d8fae5cf1995",
   "metadata": {},
   "outputs": [
    {
     "name": "stdout",
     "output_type": "stream",
     "text": [
      "Sample List: [1, 7, 10, 34, 2, 8]\n",
      "Largest Number: 34\n"
     ]
    }
   ],
   "source": [
    "# 3. Write a Python program to get the largest number from a list\n",
    "# Sample Output\n",
    "# [1,7,10,34,2,8]\n",
    "# Largest Number : 34\n",
    "\n",
    "numbers = [1, 7, 10, 34, 2, 8]\n",
    "\n",
    "largest_number = max(numbers)\n",
    "\n",
    "print(\"Sample List:\", numbers)\n",
    "print(\"Largest Number:\", largest_number)\n"
   ]
  },
  {
   "cell_type": "code",
   "execution_count": 4,
   "id": "03554c57-33b2-4445-963a-eb0dcb3011f0",
   "metadata": {},
   "outputs": [
    {
     "name": "stdout",
     "output_type": "stream",
     "text": [
      "Sample List: [51, 7, 10, 34, 2, 8]\n",
      "Smallest Number: 2\n"
     ]
    }
   ],
   "source": [
    "# 4. Write a Python program to get the smallest number from a list\n",
    "# Sample Output\n",
    "# [51,7,10,34,2,8]\n",
    "# Smallest Number : 2\n",
    "\n",
    "numbers = [51, 7, 10, 34, 2, 8]\n",
    "\n",
    "smallest_number = min(numbers)\n",
    "\n",
    "print(\"Sample List:\", numbers)\n",
    "print(\"Smallest Number:\", smallest_number)\n"
   ]
  },
  {
   "cell_type": "code",
   "execution_count": 10,
   "id": "cd22c510-9c45-4081-a770-856e25bab506",
   "metadata": {},
   "outputs": [
    {
     "name": "stdout",
     "output_type": "stream",
     "text": [
      "List Exercise\n",
      "Sample List: ['abc', 'xyz', 'aba', '1221']\n",
      "First and Last Character are same: 2\n"
     ]
    }
   ],
   "source": [
    "# 5. Write a Python program to count the number of strings where the string length is 2 or \n",
    "# more and the first and last character are same from a given list of strings\n",
    "# Sample Output\n",
    "# ['abc', 'xyz', 'aba', '1221']\n",
    "# First and Last Character are same : 2\n",
    "\n",
    "words = ['abc', 'xyz', 'aba', '1221']\n",
    "\n",
    "count = 0\n",
    "\n",
    "for word in words:\n",
    "    if len(word) >= 2 and word[0] == word[-1]:\n",
    "        count += 1\n",
    "print(\"List Exercise\")\n",
    "print(\"Sample List:\", words)\n",
    "print(\"First and Last Character are same:\", count)\n"
   ]
  },
  {
   "cell_type": "code",
   "execution_count": 11,
   "id": "12c226e7-1312-4b82-8a54-62ad59012413",
   "metadata": {},
   "outputs": [
    {
     "name": "stdout",
     "output_type": "stream",
     "text": [
      "Original List: [1, 2, 3, 7, 2, 1, 5, 6, 4, 8, 5, 4]\n",
      "List after removing duplicates: {1, 2, 3, 4, 5, 6, 7, 8}\n"
     ]
    }
   ],
   "source": [
    "# 6. Write a Python program to remove duplicates from a list\n",
    "# Sample Output\n",
    "# [1,2,3,7,2,1,5,6,4,8,5,4]\n",
    "# {1,2,3,4,5,6,7,8}\n",
    "\n",
    "\n",
    "numbers = [1, 2, 3, 7, 2, 1, 5, 6, 4, 8, 5, 4]\n",
    "\n",
    "\n",
    "unique_numbers = set(numbers)\n",
    "\n",
    "print(\"Original List:\", numbers)\n",
    "print(\"List after removing duplicates:\", unique_numbers)\n"
   ]
  },
  {
   "cell_type": "code",
   "execution_count": 14,
   "id": "fab396f3-ff6a-4f79-bb04-1c902e8223e4",
   "metadata": {},
   "outputs": [
    {
     "name": "stdout",
     "output_type": "stream",
     "text": [
      "List is Not Empty\n"
     ]
    }
   ],
   "source": [
    "# 7. Write a Python program to check a list is empty or not\n",
    "# Sample Output\n",
    "# [34,45,6,5,4,56,7]\n",
    "# List is Not Empty\n",
    "\n",
    "numbers = [34, 45, 6, 5, 4, 56, 7]\n",
    "\n",
    "if not numbers:  \n",
    "    print(\"List is Empty\")\n",
    "else:\n",
    "    print(\"List is Not Empty\")\n"
   ]
  },
  {
   "cell_type": "code",
   "execution_count": 15,
   "id": "e5046c40-cac3-4a4a-80bb-f74e9f3925e3",
   "metadata": {},
   "outputs": [
    {
     "name": "stdout",
     "output_type": "stream",
     "text": [
      "Original List: [10, 22, 44, 23, 4]\n",
      "Clone or Copy a List: [10, 22, 44, 23, 4]\n"
     ]
    }
   ],
   "source": [
    "# 8. Write a Python program to clone or copy a list\n",
    "# Sample Output\n",
    "# [10, 22, 44, 23, 4]\n",
    "# Clone or Copy a List : [10, 22, 44, 23, 4]\n",
    "\n",
    "original_list = [10, 22, 44, 23, 4]\n",
    "\n",
    "copied_list = original_list.copy()\n",
    "\n",
    "print(\"Original List:\", original_list)\n",
    "print(\"Clone or Copy a List:\", copied_list)"
   ]
  },
  {
   "cell_type": "code",
   "execution_count": 19,
   "id": "6dea2f68-5f0f-4749-9b52-1cde08e329f1",
   "metadata": {},
   "outputs": [
    {
     "name": "stdout",
     "output_type": "stream",
     "text": [
      "Find the List of Words that are Longer than n from a given List of Words\n",
      "Given value of n = 4\n",
      "['Words', 'Longer', 'given', 'Words']\n"
     ]
    }
   ],
   "source": [
    "# 9. Write a Python program to find the list of words that are longer than n from a given list \n",
    "# of words\n",
    "# Sample Output\n",
    "# Find the List of Words that are Longer than n from a given List of Words\n",
    "# Given value of n = 4\n",
    "# ['Words', 'Longer', 'given', 'Words']\n",
    "\n",
    "def find_long_words(words_list, n):\n",
    "    return [word for word in words_list if len(word) > n]\n",
    "\n",
    "words_list = [\"Find\", \"the\", \"List\", \"of\", \"Words\", \"that\", \"are\", \"Longer\", \"than\", \"n\", \"from\", \"a\", \"given\", \"List\", \"of\", \"Words\"]\n",
    "\n",
    "n = 4\n",
    "\n",
    "long_words = find_long_words(words_list, n)\n",
    "\n",
    "\n",
    "print(\"Find the List of Words that are Longer than n from a given List of Words\")\n",
    "print(\"Given value of n =\", n)\n",
    "print(long_words)\n"
   ]
  },
  {
   "cell_type": "code",
   "execution_count": 20,
   "id": "c4799154-1298-46bb-86ac-9ddbb6e0153c",
   "metadata": {},
   "outputs": [
    {
     "name": "stdout",
     "output_type": "stream",
     "text": [
      "Lists have at least one common member\n"
     ]
    }
   ],
   "source": [
    "# 10. Write a Program that get two lists as input and check if they have at least one common \n",
    "# member\n",
    "# Sample Output\n",
    "# [1,2,3,4,5]\n",
    "# [5,6,7,8,9]\n",
    "# Lists have at least one common member\n",
    "\n",
    "list1 = [1, 2, 3, 4, 5]\n",
    "list2 = [5, 6, 7, 8, 9]\n",
    "\n",
    "if set(list1) & set(list2):  \n",
    "    print(\"Lists have at least one common member\")\n",
    "else:\n",
    "    print(\"Lists have no common members\")"
   ]
  },
  {
   "cell_type": "code",
   "execution_count": 21,
   "id": "9cedf7f0-d238-47b7-99fa-76938e61a7fd",
   "metadata": {},
   "outputs": [
    {
     "name": "stdout",
     "output_type": "stream",
     "text": [
      "Original List: ['Cat', 'Dog', 'Elephant', 'Fox', 'Tiger', 'Lion', 'Ponda']\n",
      "List after removing 0th, 4th, and 5th elements: ['Dog', 'Elephant', 'Fox', 'Ponda']\n"
     ]
    }
   ],
   "source": [
    "# 11. Write a Python program to print a specified list after removing the 0th, 4th and 5th \n",
    "# elements. (enumerate)\n",
    "# Sample Output\n",
    "# [\"Cat\", \"Dog\", \"Elephant\", \"Fox\", \"Tiger\", \"Lion\", \"Ponda\"]\n",
    "# ['Dog', 'Elephant', 'Fox', 'Ponda']\n",
    "\n",
    "animals = [\"Cat\", \"Dog\", \"Elephant\", \"Fox\", \"Tiger\", \"Lion\", \"Ponda\"]\n",
    "\n",
    "filtered_list = [animal for index, animal in enumerate(animals) if index not in (0, 4, 5)]\n",
    "\n",
    "print(\"Original List:\", animals)\n",
    "print(\"List after removing 0th, 4th, and 5th elements:\", filtered_list)"
   ]
  },
  {
   "cell_type": "code",
   "execution_count": 22,
   "id": "16723b1d-1e0d-415c-8b9a-f62096f4b2b6",
   "metadata": {},
   "outputs": [
    {
     "name": "stdout",
     "output_type": "stream",
     "text": [
      "Original List: [7, 32, 81, 20, 25, 14, 23, 27]\n",
      "List after removing even numbers: [7, 81, 25, 23, 27]\n"
     ]
    }
   ],
   "source": [
    "# 12. Write a Python program to print the numbers of a specified list after removing even \n",
    "# numbers from it\n",
    "# Sample Output\n",
    "# [7,32,81,20,25,14,23,27]\n",
    "# [7, 81, 25, 23, 27]\n",
    "\n",
    "numbers = [7, 32, 81, 20, 25, 14, 23, 27]\n",
    "\n",
    "filtered_list = [num for num in numbers if num % 2 != 0]\n",
    "\n",
    "print(\"Original List:\", numbers)\n",
    "print(\"List after removing even numbers:\", filtered_list)"
   ]
  },
  {
   "cell_type": "code",
   "execution_count": 23,
   "id": "be95946f-4eb1-40e6-9175-e68d4f8191bc",
   "metadata": {},
   "outputs": [
    {
     "name": "stdout",
     "output_type": "stream",
     "text": [
      "['Ponda', 'Cat', 'Lion', 'Fox', 'Elephant', 'Dog', 'Tiger']\n"
     ]
    }
   ],
   "source": [
    "# 13. Write a Python program to shuffle and print a specified list (shuffle)\n",
    "# Sample Output\n",
    "# [\"Cat\", \"Dog\", \"Elephant\", \"Fox\", \"Tiger\", \"Lion\", \"Ponda\"]\n",
    "# ['Fox', 'Cat', 'Tiger', 'Lion', 'Dog', 'Ponda', 'Elephant']\n",
    "import random \n",
    "animals = [\"Cat\", \"Dog\", \"Elephant\", \"Fox\", \"Tiger\", \"Lion\", \"Ponda\"]\n",
    "\n",
    "random.shuffle(animals) \n",
    "\n",
    "print(animals)  \n"
   ]
  },
  {
   "cell_type": "code",
   "execution_count": 24,
   "id": "93a2fecc-cb52-479c-bb64-df985bf2a897",
   "metadata": {},
   "outputs": [
    {
     "name": "stdout",
     "output_type": "stream",
     "text": [
      "First 5 elements: [1, 4, 9, 16, 25]\n",
      "Last 5 elements: [676, 729, 784, 841, 900]\n"
     ]
    }
   ],
   "source": [
    "# 14. Write a Python program to generate and print a list of first and last 5 elements where \n",
    "# the values are square of numbers between 1 and 30\n",
    "# Sample Output\n",
    "# First 5 elements : [1, 4, 9, 16, 25]\n",
    "# Last 5 elements : [625, 676, 729, 784, 841]\n",
    "\n",
    "squares = [num ** 2 for num in range(1, 31)]\n",
    "\n",
    "print(\"First 5 elements:\", squares[:5]) \n",
    "print(\"Last 5 elements:\", squares[-5:])  \n"
   ]
  },
  {
   "cell_type": "code",
   "execution_count": 25,
   "id": "58ba7ea4-621c-41a7-824f-6edc1aadbffb",
   "metadata": {},
   "outputs": [
    {
     "name": "stdout",
     "output_type": "stream",
     "text": [
      "Original List: [1, 2, 3]\n",
      "All Permutations: [(1, 2, 3), (1, 3, 2), (2, 1, 3), (2, 3, 1), (3, 1, 2), (3, 2, 1)]\n"
     ]
    }
   ],
   "source": [
    "# 15. Write a Python program to generate all permutations of a list in Python. (itertools)\n",
    "# Sample Output\n",
    "# [1,2,3]\n",
    "# [(1, 2, 3), (1, 3, 2), (2, 1, 3), (2, 3, 1), (3, 1, 2), (3, 2, 1)]\n",
    "\n",
    "import itertools \n",
    "\n",
    "numbers = [1, 2, 3]\n",
    "\n",
    "permutations_list = list(itertools.permutations(numbers))\n",
    "\n",
    "print(\"Original List:\", numbers)\n",
    "print(\"All Permutations:\", permutations_list)\n"
   ]
  },
  {
   "cell_type": "code",
   "execution_count": 26,
   "id": "371c6942-648d-4aeb-91eb-ca8e94572eb8",
   "metadata": {},
   "outputs": [
    {
     "name": "stdout",
     "output_type": "stream",
     "text": [
      "Tutor Joes\n"
     ]
    }
   ],
   "source": [
    "# 16. Write a Python program to convert a list of characters into a string\n",
    "# Sample Output\n",
    "# ['T','u','t','o','r',' ','J','o','e','s']\n",
    "# Tutor Joes\n",
    "\n",
    "\n",
    "char_list = ['T', 'u', 't', 'o', 'r', ' ', 'J', 'o', 'e', 's']\n",
    "\n",
    "result_string = ''.join(char_list)\n",
    "\n",
    "\n",
    "print(result_string)\n"
   ]
  },
  {
   "cell_type": "code",
   "execution_count": 27,
   "id": "b6485454-2dbe-4074-86fb-bd0bc7a6c7f0",
   "metadata": {},
   "outputs": [
    {
     "name": "stdout",
     "output_type": "stream",
     "text": [
      "Original List: [20, 70, 30, 90, 10, 30, 90, 10, 80]\n",
      "Item to find the index of: 30\n",
      "Index Number of Item: 2\n"
     ]
    }
   ],
   "source": [
    "# 17. Write a Python program to find the index of an item in a specified list\n",
    "# Sample Output\n",
    "# [20, 70, 30, 90, 10, 30, 90, 10, 80]\n",
    "# Item to find the index of 30\n",
    "# Index Number of Item = 2\n",
    "\n",
    "\n",
    "numbers = [20, 70, 30, 90, 10, 30, 90, 10, 80]\n",
    "\n",
    "item = 30\n",
    "\n",
    "index_number = numbers.index(item)\n",
    "\n",
    "print(\"Original List:\", numbers)\n",
    "print(\"Item to find the index of:\", item)\n",
    "print(\"Index Number of Item:\", index_number)"
   ]
  },
  {
   "cell_type": "code",
   "execution_count": 28,
   "id": "140c19f7-7ce9-40c0-8038-cf183a950c80",
   "metadata": {},
   "outputs": [
    {
     "name": "stdout",
     "output_type": "stream",
     "text": [
      "Original List: [[20, 30, 70], [30, 90, 10], [30, 20], [70, 90, 10, 80]]\n",
      "Flattened List: [20, 30, 70, 30, 90, 10, 30, 20, 70, 90, 10, 80]\n"
     ]
    }
   ],
   "source": [
    "# 18. Write a Python program to flatten a shallow list\n",
    "# Sample Output\n",
    "# [[20,30,70],[30,90,10], [30,20], [70,90,10,80]]\n",
    "# [20, 30, 70, 30, 90, 10, 30, 20, 70, 90, 10, 80]\n",
    "\n",
    "\n",
    "shallow_list = [[20, 30, 70], [30, 90, 10], [30, 20], [70, 90, 10, 80]]\n",
    "\n",
    "\n",
    "flattened_list = [item for sublist in shallow_list for item in sublist]\n",
    "\n",
    "print(\"Original List:\", shallow_list)\n",
    "print(\"Flattened List:\", flattened_list)"
   ]
  },
  {
   "cell_type": "code",
   "execution_count": 29,
   "id": "4a6ca9d0-9bc8-4b99-9321-28d356096f24",
   "metadata": {},
   "outputs": [
    {
     "name": "stdout",
     "output_type": "stream",
     "text": [
      "First List: [10, 20, 30, 40]\n",
      "Second List: ['Cat', 'Dog', 'Lion', 'Ponda']\n",
      "Combined List: [10, 20, 30, 40, 'Cat', 'Dog', 'Lion', 'Ponda']\n"
     ]
    }
   ],
   "source": [
    "# 19. Write a Python program to add a list to the second list\n",
    "# Sample Output\n",
    "# [10, 20, 30, 40]\n",
    "# [\"Cat\", \"Dog\", \"Lion\", \"Ponda\"]\n",
    "# [10, 20, 30, 40, 'Cat', 'Dog', 'Lion', 'Ponda']\n",
    "\n",
    "list1 = [10, 20, 30, 40]\n",
    "list2 = [\"Cat\", \"Dog\", \"Lion\", \"Ponda\"]\n",
    "\n",
    "combined_list = list1 + list2\n",
    "\n",
    "print(\"First List:\", list1)\n",
    "print(\"Second List:\", list2)\n",
    "print(\"Combined List:\", combined_list)"
   ]
  },
  {
   "cell_type": "code",
   "execution_count": 30,
   "id": "9671932d-bd16-4d7f-ad1f-317a8d6a157f",
   "metadata": {},
   "outputs": [
    {
     "name": "stdout",
     "output_type": "stream",
     "text": [
      "Original List: ['Cat', 'Dog', 'Elephant', 'Fox', 'Tiger', 'Lion', 'Ponda']\n",
      "Randomly Selected Item: Lion\n"
     ]
    }
   ],
   "source": [
    "# 20. Write a Python program to select an item randomly from a list Using random.choice()\n",
    "# Sample Output\n",
    "# [\"Cat\", \"Dog\", \"Elephant\", \"Fox\", \"Tiger\", \"Lion\", \"Ponda\"]\n",
    "# Item randomly from a list : Fox\n",
    "\n",
    "import random  # Import the random module\n",
    "\n",
    "\n",
    "animals = [\"Cat\", \"Dog\", \"Elephant\", \"Fox\", \"Tiger\", \"Lion\", \"Ponda\"]\n",
    "\n",
    "\n",
    "random_item = random.choice(animals)\n",
    "\n",
    "\n",
    "print(\"Original List:\", animals)\n",
    "print(\"Randomly Selected Item:\", random_item)\n",
    "\n"
   ]
  },
  {
   "cell_type": "code",
   "execution_count": 31,
   "id": "3000bf43-66ab-471d-bb6a-856bcdb969f2",
   "metadata": {},
   "outputs": [
    {
     "name": "stdout",
     "output_type": "stream",
     "text": [
      "List1: [8, 8, 12, 12, 8]\n",
      "List2: [8, 8, 8, 12, 12]\n",
      "List3: [1, 8, 8, 12, 12]\n",
      "Compare List1 and List2: True\n",
      "Compare List1 and List3: False\n"
     ]
    }
   ],
   "source": [
    "# 21. Write a python program to check whether two lists are circularly identical\n",
    "# Sample Output\n",
    "# [8, 8, 12, 12, 8]\n",
    "# [8, 8, 8, 12, 12]\n",
    "# [1, 8, 8, 12, 12]\n",
    "# Compare List1 and List2 : True\n",
    "# Compare List1 and List3 : False\n",
    "\n",
    "list1 = [8, 8, 12, 12, 8]\n",
    "list2 = [8, 8, 8, 12, 12]\n",
    "list3 = [1, 8, 8, 12, 12]\n",
    "\n",
    "result1 = str(list2)[1:-1] in str(list1 * 2)\n",
    "\n",
    "result2 = str(list3)[1:-1] in str(list1 * 2)\n",
    "\n",
    "\n",
    "print(\"List1:\", list1)\n",
    "print(\"List2:\", list2)\n",
    "print(\"List3:\", list3)\n",
    "print(\"Compare List1 and List2:\", result1)\n",
    "print(\"Compare List1 and List3:\", result2)"
   ]
  },
  {
   "cell_type": "code",
   "execution_count": 32,
   "id": "139707d3-19ef-4a72-8fab-3c5dfb780a5c",
   "metadata": {},
   "outputs": [
    {
     "name": "stdout",
     "output_type": "stream",
     "text": [
      "Original List: [2, 4, 56, 78, 4, 34, 5, 8, 9]\n",
      "Second Smallest Number: 4\n"
     ]
    }
   ],
   "source": [
    "# 22. Write a Python program to find the second smallest number in a list\n",
    "# Sample Output\n",
    "# [2,4,56,78,4,34,5,8,9]\n",
    "# Second Smallest Number : 4\n",
    "\n",
    "numbers = [2, 4, 56, 78, 4, 34, 5, 8, 9]\n",
    "\n",
    "unique_sorted = sorted(set(numbers))\n",
    "\n",
    "second_smallest = unique_sorted[1]\n",
    "\n",
    "print(\"Original List:\", numbers)\n",
    "print(\"Second Smallest Number:\", second_smallest)\n"
   ]
  },
  {
   "cell_type": "code",
   "execution_count": 33,
   "id": "6601abc6-1240-4f58-95dc-d9c710889a35",
   "metadata": {},
   "outputs": [
    {
     "name": "stdout",
     "output_type": "stream",
     "text": [
      "Original List: [82, 4, 56, 78, 4, 34, 5, 100, 9]\n",
      "Second Largest Number: 82\n"
     ]
    }
   ],
   "source": [
    "# 23. Write a Python program to find the second largest number in a list\n",
    "# Sample Output\n",
    "# [82,4,56,78,4,34,5,100,9]\n",
    "# Second Largest Number : 82\n",
    "\n",
    "numbers = [82, 4, 56, 78, 4, 34, 5, 100, 9]\n",
    "\n",
    "unique_sorted = sorted(set(numbers), reverse=True)\n",
    "\n",
    "second_largest = unique_sorted[1]\n",
    "\n",
    "print(\"Original List:\", numbers)\n",
    "print(\"Second Largest Number:\", second_largest)"
   ]
  },
  {
   "cell_type": "code",
   "execution_count": 34,
   "id": "9b303a61-562a-4eef-a896-fa9fec8edbea",
   "metadata": {},
   "outputs": [
    {
     "name": "stdout",
     "output_type": "stream",
     "text": [
      "Original List: [82, 4, 10, 56, 78, 4, 34, 5, 10, 9]\n",
      "Unique Values: [4, 5, 9, 10, 34, 56, 78, 82]\n"
     ]
    }
   ],
   "source": [
    "# 24. Write a Python program to get unique values from a list\n",
    "# Sample Output\n",
    "# [82, 4, 10, 56, 78, 4, 34, 5, 10, 9]\n",
    "# [34, 4, 5, 9, 10, 78, 82, 56]\n",
    "\n",
    "numbers = [82, 4, 10, 56, 78, 4, 34, 5, 10, 9]\n",
    "\n",
    "unique_values = sorted(set(numbers))\n",
    "\n",
    "print(\"Original List:\", numbers)\n",
    "print(\"Unique Values:\", unique_values)"
   ]
  },
  {
   "cell_type": "code",
   "execution_count": 35,
   "id": "2b13ee23-55bd-4859-9b5e-4213149bacd4",
   "metadata": {},
   "outputs": [
    {
     "name": "stdout",
     "output_type": "stream",
     "text": [
      "Original List: [10, 30, 50, 10, 20, 60, 20, 60, 40, 40, 50, 50, 30]\n",
      "Frequency of Elements: Counter({50: 3, 10: 2, 30: 2, 20: 2, 60: 2, 40: 2})\n"
     ]
    }
   ],
   "source": [
    "# 25. Write a Python program to get the frequency of the elements in a list.\n",
    "# Sample Output\n",
    "# [10, 30, 50, 10, 20, 60, 20, 60, 40, 40, 50, 50, 30]\n",
    "# Counter({50: 3, 10: 2, 30: 2, 20: 2, 60: 2, 40: 2})\n",
    "from collections import Counter  # Import Counter from collections\n",
    "\n",
    "numbers = [10, 30, 50, 10, 20, 60, 20, 60, 40, 40, 50, 50, 30]\n",
    "\n",
    "frequency = Counter(numbers)\n",
    "\n",
    "print(\"Original List:\", numbers)\n",
    "print(\"Frequency of Elements:\", frequency)\n"
   ]
  },
  {
   "cell_type": "code",
   "execution_count": 36,
   "id": "4ae69e30-847f-4130-bf4e-1829e0ac1f76",
   "metadata": {},
   "outputs": [
    {
     "name": "stdout",
     "output_type": "stream",
     "text": [
      "['T1', 'J1', 'T2', 'J2', 'T3', 'J3', 'T4', 'J4', 'T5', 'J5', 'T6', 'J6', 'T7', 'J7', 'T8', 'J8', 'T9', 'J9', 'T10', 'J10']\n"
     ]
    }
   ],
   "source": [
    "# 26. Create a list by concatenating a given list which range goes from 1 to n\n",
    "# Sample Output\n",
    "# ['T', 'J']\n",
    "# N = 10\n",
    "# ['T1', 'J1', 'T2', 'J2', 'T3', 'J3', 'T4', 'J4', 'T5', 'J5', 'T6', 'J6', 'T7', 'J7', 'T8', 'J8', 'T9', 'J9', 'T10', 'J10']\n",
    "\n",
    "letters = ['T', 'J']  # Given list\n",
    "N = 10 \n",
    "\n",
    "concatenated_list = []  # Empty list to store results\n",
    "\n",
    "for i in range(1, N + 1):  \n",
    "    for char in letters:  \n",
    "        concatenated_list.append(char + str(i))  \n",
    "\n",
    "print(concatenated_list)  "
   ]
  },
  {
   "cell_type": "code",
   "execution_count": 1,
   "id": "dc821330-61b5-44f5-aa46-e34651459812",
   "metadata": {},
   "outputs": [
    {
     "name": "stdout",
     "output_type": "stream",
     "text": [
      "x = 30\n",
      "s = Tutor Joes\n",
      "Unique Identification Number: 0x7ffef367c6c8\n",
      "Unique Identification String: 0x175a04336b0\n"
     ]
    }
   ],
   "source": [
    "# 27. Write a Python program to get variable unique identification number or string\n",
    "# Sample Output\n",
    "# x = 30\n",
    "# s = \"Tutor Joes\"\n",
    "# Unique Identification Number : 7005f980\n",
    "# Unique Identification String : c24bb0\n",
    "\n",
    "x = 30\n",
    "s = \"Tutor Joes\"\n",
    "\n",
    "x_id = hex(id(x)) \n",
    "s_id = hex(id(s))\n",
    "\n",
    "print(\"x =\", x)\n",
    "print(\"s =\", s)\n",
    "print(\"Unique Identification Number:\", x_id)\n",
    "print(\"Unique Identification String:\", s_id)\n"
   ]
  },
  {
   "cell_type": "code",
   "execution_count": 2,
   "id": "5272f37e-102c-4ee3-a123-7f390d66c513",
   "metadata": {},
   "outputs": [
    {
     "name": "stdout",
     "output_type": "stream",
     "text": [
      "List 1: [23, 45, 67, 78, 89, 34]\n",
      "List 2: [34, 89, 55, 56, 39, 67]\n",
      "Common items from two lists: {89, 34, 67}\n"
     ]
    }
   ],
   "source": [
    "# 28. Write a Python program to find common items from two lists\n",
    "# Sample Output\n",
    "# [23,45,67,78,89,34]\n",
    "# [34,89,55,56,39,67]\n",
    "# Common items from two lists : {89, 34, 67}\n",
    "\n",
    "list1 = [23, 45, 67, 78, 89, 34]\n",
    "list2 = [34, 89, 55, 56, 39, 67]\n",
    "\n",
    "common_items = set(list1) & set(list2)\n",
    "\n",
    "print(\"List 1:\", list1)\n",
    "print(\"List 2:\", list2)\n",
    "print(\"Common items from two lists:\", common_items)"
   ]
  },
  {
   "cell_type": "code",
   "execution_count": 5,
   "id": "5f299687-ede4-40a0-97ea-fb87bd3a6dae",
   "metadata": {},
   "outputs": [
    {
     "name": "stdout",
     "output_type": "stream",
     "text": [
      "B\n",
      " bear\n",
      "C\n",
      " cat\n",
      " cow\n",
      "D\n",
      " dog\n",
      "F\n",
      " Fox\n",
      "L\n",
      " lion\n",
      "M\n",
      " monkey\n",
      " mouse\n",
      "S\n",
      " Shark\n",
      " Snake\n",
      "T\n",
      " tiger\n",
      " turtle\n"
     ]
    }
   ],
   "source": [
    "# 29. Write a Python program to split a list based on first character of word\n",
    "# Sample Output\n",
    "# [\"cat\", \"dog\", \"cow\", \"tiger\", \"lion\", \"Fox\", \"Shark\", \"Snake\", \"turtle\", \"mouse\", \"monkey\", \n",
    "# \"bear\"]\n",
    "# F\n",
    "#  Fox\n",
    "# S\n",
    "#  Shark\n",
    "#  Snake\n",
    "# b\n",
    "#  bear\n",
    "# c\n",
    "#  cat\n",
    "#  cow\n",
    "# d\n",
    "#  dog\n",
    "# l\n",
    "#  lion\n",
    "# m\n",
    "#  monkey\n",
    "#  mouse\n",
    "# t\n",
    "#  tiger\n",
    "#  turtle\n",
    "words = [\"cat\", \"dog\", \"cow\", \"tiger\", \"lion\", \"Fox\", \"Shark\", \"Snake\", \"turtle\", \"mouse\", \"monkey\", \"bear\"]\n",
    "\n",
    "\n",
    "from collections import defaultdict\n",
    "word_dict = defaultdict(list)\n",
    "\n",
    "for word in words:\n",
    "    word_dict[word[0].lower()].append(word)\n",
    "\n",
    "for key in sorted(word_dict):\n",
    "    print(key.upper())\n",
    "    for word in sorted(word_dict[key]):\n",
    "        print(\"\", word)\n"
   ]
  },
  {
   "cell_type": "code",
   "execution_count": 7,
   "id": "630368c4-7136-49a2-b3a4-36bbad5145ac",
   "metadata": {},
   "outputs": [
    {
     "name": "stdout",
     "output_type": "stream",
     "text": [
      "Original list: [1, 2, 4, 3, 6, 7, 5, 8, 9, 7, 8, 9, 10]\n",
      "Odd numbers: [1, 3, 7, 5, 9, 7, 9]\n"
     ]
    }
   ],
   "source": [
    "# 30. Write a Python program to select the odd number of a list\n",
    "# Sample Output\n",
    "# [1,2,4,3,6,7,5,8,9,7,8,9,10]\n",
    "# [1, 3, 7, 5, 9, 7, 9]\n",
    "\n",
    "numbers = [1, 2, 4, 3, 6, 7, 5, 8, 9, 7, 8, 9, 10]\n",
    "\n",
    "\n",
    "odd_numbers = [num for num in numbers if num % 2 != 0]\n",
    "\n",
    "\n",
    "print(\"Original list:\", numbers)\n",
    "print(\"Odd numbers:\", odd_numbers)"
   ]
  },
  {
   "cell_type": "code",
   "execution_count": 1,
   "id": "d963834d-f3fa-417f-ad6b-e20263daf033",
   "metadata": {},
   "outputs": [
    {
     "name": "stdout",
     "output_type": "stream",
     "text": [
      "No of Unique Items in List: 6\n"
     ]
    }
   ],
   "source": [
    "# 31. Write a Python Program to count unique values inside a list\n",
    "# Sample Output\n",
    "# [10, 20, 30, 50, 80, 70, 70, 80, 10]\n",
    "# No of Unique Items in List : 6\n",
    "\n",
    "sample_list = [10, 20, 30, 50, 80, 70, 70, 80, 10]\n",
    "\n",
    "unique_count = len(set(sample_list))\n",
    "\n",
    "\n",
    "print(\"No of Unique Items in List:\", unique_count)\n"
   ]
  },
  {
   "cell_type": "code",
   "execution_count": 2,
   "id": "4fd2f5c7-6d41-48c5-ae23-4be8b40cf6f5",
   "metadata": {},
   "outputs": [
    {
     "name": "stdout",
     "output_type": "stream",
     "text": [
      "Duplication removal list product: 144\n"
     ]
    }
   ],
   "source": [
    "# 32. Write a Python Program to List product excluding duplicates\n",
    "# Sample Output\n",
    "# [2, 1, 2, 4, 6, 4, 3, 2, 1]\n",
    "# Duplication removal list product : 144\n",
    "\n",
    "from math import prod\n",
    "\n",
    "\n",
    "sample_list = [2, 1, 2, 4, 6, 4, 3, 2, 1]\n",
    "\n",
    "\n",
    "unique_values = set(sample_list)\n",
    "\n",
    "result = prod(unique_values)\n",
    "\n",
    "print(\"Duplication removal list product:\", result)\n"
   ]
  },
  {
   "cell_type": "code",
   "execution_count": 3,
   "id": "4027aa06-ab71-40e9-9182-cf04feea1eb2",
   "metadata": {},
   "outputs": [
    {
     "name": "stdout",
     "output_type": "stream",
     "text": [
      "Elements with frequency greater than 2 : [4, 3]\n"
     ]
    }
   ],
   "source": [
    "# 33. Write a Python Program to Extract elements with Frequency greater than K\n",
    "# Sample Output\n",
    "# [4, 6, 4, 3, 3, 4, 3, 7, 8, 8]\n",
    "\n",
    "from collections import Counter\n",
    "\n",
    "\n",
    "sample_list = [4, 6, 4, 3, 3, 4, 3, 7, 8, 8]\n",
    "\n",
    "K = 2  \n",
    "\n",
    "freq_count = Counter(sample_list)\n",
    "\n",
    "result = [key for key, value in freq_count.items() if value > K]\n",
    "\n",
    "print(\"Elements with frequency greater than\", K, \":\", result)"
   ]
  },
  {
   "cell_type": "code",
   "execution_count": 4,
   "id": "73d37da5-5075-4165-924c-a12f3e4088ce",
   "metadata": {},
   "outputs": [
    {
     "name": "stdout",
     "output_type": "stream",
     "text": [
      "Does list contain all elements in range: True\n"
     ]
    }
   ],
   "source": [
    "# 34. Write a Python Program to Test if List contains elements in Range\n",
    "# Sample Output\n",
    "# [4, 5, 6, 7, 3, 9]\n",
    "# Does list contain all elements in range : True\n",
    "\n",
    "sample_list = [4, 5, 6, 7, 3, 9]\n",
    "\n",
    "\n",
    "start, end = 3, 7  \n",
    "\n",
    "\n",
    "contains_all = all(num in sample_list for num in range(start, end + 1))\n",
    "\n",
    "\n",
    "print(\"Does list contain all elements in range:\", contains_all)"
   ]
  },
  {
   "cell_type": "code",
   "execution_count": 6,
   "id": "acb1e316-ff1c-42ef-b234-ad83b476d6e0",
   "metadata": {},
   "outputs": [
    {
     "name": "stdout",
     "output_type": "stream",
     "text": [
      "Three Consecutive common numbers = 9, 18\n"
     ]
    }
   ],
   "source": [
    "# 35. Write a Python program to check if the list contains three consecutive common \n",
    "# numbers in Python\n",
    "# Sample Output\n",
    "# [18, 18, 18, 6, 3, 4, 9, 9, 9]\n",
    "# Three Consecutive common numbers = 18, 9\n",
    "\n",
    "sample_list = [18, 18, 18, 6, 3, 4, 9, 9, 9]\n",
    "\n",
    "consecutive_numbers = set()\n",
    "\n",
    "for i in range(len(sample_list) - 2):\n",
    "    if sample_list[i] == sample_list[i + 1] == sample_list[i + 2]:\n",
    "        consecutive_numbers.add(sample_list[i])\n",
    "\n",
    "result = sorted(consecutive_numbers)\n",
    "\n",
    "if result:\n",
    "    print(\"Three Consecutive common numbers =\", \", \".join(map(str, result)))\n",
    "else:\n",
    "    print(\"No three consecutive common numbers found.\")"
   ]
  },
  {
   "cell_type": "code",
   "execution_count": 7,
   "id": "5db39016-85ee-49d1-a985-6c873b18e69f",
   "metadata": {},
   "outputs": [
    {
     "name": "stdout",
     "output_type": "stream",
     "text": [
      "20 30 30 30 400\n"
     ]
    }
   ],
   "source": [
    "# 36. Write a Python program to find the Strongest Neighbour\n",
    "# Sample Output\n",
    "# [10,20,30,20,30,400]\n",
    "# 20 30 30 30 400\n",
    "\n",
    "\n",
    "sample_list = [10, 20, 30, 20, 30, 400]\n",
    "\n",
    "\n",
    "output = [max(sample_list[i], sample_list[i + 1]) for i in range(len(sample_list) - 1)]\n",
    "\n",
    "\n",
    "print(\" \".join(map(str, output)))"
   ]
  },
  {
   "cell_type": "code",
   "execution_count": 8,
   "id": "de37a310-ea46-4336-8803-74edda7a3771",
   "metadata": {},
   "outputs": [
    {
     "name": "stdout",
     "output_type": "stream",
     "text": [
      "1 2 3\n",
      "1 3 2\n",
      "2 1 3\n",
      "2 3 1\n",
      "3 1 2\n",
      "3 2 1\n"
     ]
    }
   ],
   "source": [
    "# 37. Write a Python Program to print all Possible Combinations from the three Digits\n",
    "# Sample Output\n",
    "# [1, 2, 3]\n",
    "# 1 2 3\n",
    "# 1 3 2\n",
    "# 2 1 3\n",
    "# 2 3 1\n",
    "# 3 1 2\n",
    "# 3 2 1\n",
    "from itertools import permutations\n",
    "\n",
    "\n",
    "digits = [1, 2, 3]\n",
    "\n",
    "combinations = permutations(digits)\n",
    "\n",
    "for combo in combinations:\n",
    "    print(\" \".join(map(str, combo)))\n"
   ]
  },
  {
   "cell_type": "code",
   "execution_count": 9,
   "id": "c8e31cbf-bebc-492f-9715-f70de7703aa8",
   "metadata": {},
   "outputs": [
    {
     "name": "stdout",
     "output_type": "stream",
     "text": [
      "[['Tutor Joes', 'Software', 'Solution'], ['Tutor Joes', 'Software', 'Education'], ['Tutor Joes', 'Computer', 'Solution'], ['Tutor Joes', 'Computer', 'Education']]\n"
     ]
    }
   ],
   "source": [
    "# 38. Write a Python program to find all the Combinations in the list with the given condition\n",
    "# Sample Output\n",
    "# ['Tutor Joes', ['Software', 'Computer'], ['Solution', 'Education']]\n",
    "# [ ['Tutor Joes', 'Software', 'Solution'], ['Tutor Joes', 'Computer', 'Education'] ]\n",
    "\n",
    "from itertools import product\n",
    "\n",
    "data = ['Tutor Joes', ['Software', 'Computer'], ['Solution', 'Education']]\n",
    "\n",
    "fixed_element = data[0]\n",
    "variable_sublists = data[1:]\n",
    "\n",
    "combinations = [ [fixed_element] + list(combo) for combo in product(*variable_sublists) ]\n",
    "\n",
    "print(combinations)\n"
   ]
  },
  {
   "cell_type": "code",
   "execution_count": 10,
   "id": "7b6ee565-8444-4d0c-93bd-1d877b191784",
   "metadata": {},
   "outputs": [
    {
     "name": "stdout",
     "output_type": "stream",
     "text": [
      "[[('A', 1), ('B', 2), ('C', 3)], [('A', 1), ('C', 2), ('B', 3)], [('B', 1), ('A', 2), ('C', 3)], [('B', 1), ('C', 2), ('A', 3)], [('C', 1), ('A', 2), ('B', 3)], [('C', 1), ('B', 2), ('A', 3)]]\n"
     ]
    }
   ],
   "source": [
    "# 39. Write a Python program to get all unique combinations of two Lists\n",
    "# Sample Output\n",
    "# ['A','B','C']\n",
    "# [1,2,3]\n",
    "# [ [('A', 1), ('B', 2), ('C', 3)], [('A', 1), ('C', 2), ('B', 3)], [('B', 1), ('A', 2), ('C', 3)], [('B', 1), ('C', 2), ('A', 3)], \n",
    "# [('C', 1), ('A', 2), ('B', 3)], [('C', 1), ('B', 2), ('A', 3)] ]\n",
    "\n",
    "from itertools import permutations\n",
    "\n",
    "list1 = ['A', 'B', 'C']\n",
    "list2 = [1, 2, 3]\n",
    "\n",
    "combinations = [list(zip(p, list2)) for p in permutations(list1)]\n",
    "\n",
    "print(combinations)\n"
   ]
  },
  {
   "cell_type": "code",
   "execution_count": 11,
   "id": "1e9d1965-2876-4f8d-9d5f-4c3b4caaaf0c",
   "metadata": {},
   "outputs": [
    {
     "name": "stdout",
     "output_type": "stream",
     "text": [
      "[('A', 'B', 'C', 'D'), ('H', 'D', 'B', 'C')]\n"
     ]
    }
   ],
   "source": [
    "# 41. Write a Python Program to Remove Consecutive K element records\n",
    "# Sample Output\n",
    "# [ ('A', 'B', 'C', 'D'), ('B', 'C', 'C', 'I'), ('H', 'D', 'B', 'C'), ('C', 'C', 'G', 'F') ]\n",
    "# [ ('A', 'B', 'C', 'D'), ('H', 'D', 'B', 'C') ]\n",
    "# Sample list of tuples\n",
    "\n",
    "\n",
    "data = [\n",
    "    ('A', 'B', 'C', 'D'),\n",
    "    ('B', 'C', 'C', 'I'),\n",
    "    ('H', 'D', 'B', 'C'),\n",
    "    ('C', 'C', 'G', 'F')\n",
    "]\n",
    "\n",
    "filtered_data = [\n",
    "    tup for tup in data if not any(tup[i] == tup[i + 1] for i in range(len(tup) - 1))\n",
    "]\n",
    "\n",
    "\n",
    "print(filtered_data)\n"
   ]
  },
  {
   "cell_type": "code",
   "execution_count": 12,
   "id": "f13c28df-8630-44d2-b273-bb4d5567feec",
   "metadata": {},
   "outputs": [
    {
     "name": "stdout",
     "output_type": "stream",
     "text": [
      "['Education', 'Computer', 'Tutor Joes', 'Computer', 'Tutor Joes', 'Education', 'Education', 'Tutor Joes', 'Computer', 'Tutor Joes', 'Computer', 'Education']\n"
     ]
    }
   ],
   "source": [
    "# 42. Write a Python Program to Replace index elements with elements in Other List\n",
    "# Sample Output\n",
    "# ['Tutor Joes', 'Computer', 'Education']\n",
    "# [2, 1, 0, 1, 0, 2, 2, 0, 1, 0, 1, 2]\n",
    "# ['Education', 'Computer', 'Tutor Joes', 'Computer', 'Tutor Joes', 'Education', 'Education', 'Tutor \n",
    "# Joes', 'Computer', 'Tutor Joes', 'Computer', 'Education']\n",
    "\n",
    "replace_list = ['Tutor Joes', 'Computer', 'Education']\n",
    "\n",
    "index_list = [2, 1, 0, 1, 0, 2, 2, 0, 1, 0, 1, 2]\n",
    "\n",
    "result = [replace_list[i] for i in index_list]\n",
    "\n",
    "print(result)"
   ]
  },
  {
   "cell_type": "code",
   "execution_count": 13,
   "id": "19af8768-6986-4c7f-9738-99e9cb588868",
   "metadata": {},
   "outputs": [
    {
     "name": "stdout",
     "output_type": "stream",
     "text": [
      "[3, 4, 6, 5]\n"
     ]
    }
   ],
   "source": [
    "# 40. Write a Python program to remove all the occurrences of an element from a list\n",
    "# Sample Output\n",
    "# [1, 3, 4, 6, 5, 1]\n",
    "# [3, 4, 6, 5]\n",
    "\n",
    "sample_list = [1, 3, 4, 6, 5, 1]\n",
    "\n",
    "\n",
    "element_to_remove = 1\n",
    "\n",
    "\n",
    "filtered_list = [x for x in sample_list if x != element_to_remove]\n",
    "\n",
    "\n",
    "print(filtered_list)"
   ]
  },
  {
   "cell_type": "code",
   "execution_count": 14,
   "id": "85779654-a1b5-4e01-be90-8c846ce7b7c5",
   "metadata": {},
   "outputs": [
    {
     "name": "stdout",
     "output_type": "stream",
     "text": [
      "[(4, 5, 6, 5, 4), (5, 5, 2)]\n"
     ]
    }
   ],
   "source": [
    "# 43. Write a Python Program to Retain records with N occurrences of K\n",
    "# Sample Output\n",
    "# [ (4, 5, 6, 5, 4), (4, 5, 3), (5, 5, 2), (3, 4, 9) ]\n",
    "# K = 5\n",
    "# N = 2\n",
    "# [ (4, 5, 6, 5, 4), (5, 5, 2) ]\n",
    "\n",
    "data = [(4, 5, 6, 5, 4), (4, 5, 3), (5, 5, 2), (3, 4, 9)]\n",
    "\n",
    "\n",
    "K = 5 \n",
    "N = 2  \n",
    "\n",
    "\n",
    "filtered_data = [tup for tup in data if tup.count(K) == N]\n",
    "\n",
    "\n",
    "print(filtered_data)"
   ]
  },
  {
   "cell_type": "code",
   "execution_count": 15,
   "id": "039201ad-4e48-4664-b4f1-ecd06cfd4a22",
   "metadata": {},
   "outputs": [
    {
     "name": "stdout",
     "output_type": "stream",
     "text": [
      "['Tutor', 'Computer', 'joes', 'Education']\n"
     ]
    }
   ],
   "source": [
    "# 44. Write a Python Program to Swap elements in String list\n",
    "# Sample Output\n",
    "# ['Tutor', 'joes', 'Computer', 'Education']\n",
    "# ['Tutor', \"Joe's\", 'Software', 'Solutions']\n",
    "\n",
    "\n",
    "string_list = ['Tutor', 'joes', 'Computer', 'Education']\n",
    "\n",
    "index1, index2 = 1, 2  # Example: swapping 'joes' and 'Computer'\n",
    "\n",
    "string_list[index1], string_list[index2] = string_list[index2], string_list[index1]\n",
    "\n",
    "print(string_list)"
   ]
  },
  {
   "cell_type": "code",
   "execution_count": 16,
   "id": "143e8ba4-aad9-49dd-8b05-38390b43de3c",
   "metadata": {},
   "outputs": [
    {
     "name": "stdout",
     "output_type": "stream",
     "text": [
      "Original list = ['Tutor', 'joes', 'Computer', 'Education']\n",
      "Reversed list = ['rotuT', 'seoj', 'retupmoC', 'noitacudE']\n",
      "Reversed list = ['Education', 'Computer', 'joes', 'Tutor']\n"
     ]
    }
   ],
   "source": [
    "# 45. Write a Python program to reverse All Strings in String List\n",
    "# Sample Output\n",
    "# Original list = ['Tutor', 'joes', 'Computer', 'Education']\n",
    "# Reversed list = ['rotuT', 'seoj', 'retupmoC', 'noitacudE']\n",
    "# Reversed list = ['Education', 'Computer', 'joes', 'Tutor']\n",
    "\n",
    "\n",
    "string_list = ['Tutor', 'joes', 'Computer', 'Education']\n",
    "\n",
    "reversed_strings = [s[::-1] for s in string_list]\n",
    "\n",
    "\n",
    "reversed_list_order = string_list[::-1]\n",
    "\n",
    "print(\"Original list =\", string_list)\n",
    "print(\"Reversed list =\", reversed_strings)\n",
    "print(\"Reversed list =\", reversed_list_order)"
   ]
  },
  {
   "cell_type": "code",
   "execution_count": 18,
   "id": "b29c7abd-b1d0-47a1-a1e9-ee840da99832",
   "metadata": {},
   "outputs": [
    {
     "name": "stdout",
     "output_type": "stream",
     "text": [
      "Index of character at Kth position word: 3\n"
     ]
    }
   ],
   "source": [
    "# 46. Write a Python program to find the character position of Kth word from a list of strings\n",
    "# Sample Output\n",
    "# ['Tutor', 'joes', 'Computer', 'Education']\n",
    "# K = 20\n",
    "# Index of character at Kth position word: 3\n",
    "\n",
    "\n",
    "string_list = ['Tutor', 'joes', 'Computer', 'Education']\n",
    "\n",
    "\n",
    "K = 20  \n",
    "\n",
    "\n",
    "combined_string = \"\".join(string_list)\n",
    "\n",
    "\n",
    "char_position = 0\n",
    "for index, word in enumerate(string_list):\n",
    "    char_position += len(word)\n",
    "    if K <= char_position:\n",
    "        print(\"Index of character at Kth position word:\", index)\n",
    "        break"
   ]
  },
  {
   "cell_type": "code",
   "execution_count": 19,
   "id": "e15bbba5-98c0-445f-bbb8-b2c8e1b77479",
   "metadata": {},
   "outputs": [
    {
     "name": "stdout",
     "output_type": "stream",
     "text": [
      "Strings count with matching frequency: 3\n"
     ]
    }
   ],
   "source": [
    "# 47. Write a Python Program to Prefix frequency in string List\n",
    "# Sample Output\n",
    "# ['TjC', 'TjCpp', 'TjPython', 'Java']\n",
    "# Prefix = 'Tj'\n",
    "# Strings count with matching frequency : 3\n",
    "\n",
    "\n",
    "string_list = ['TjC', 'TjCpp', 'TjPython', 'Java']\n",
    "\n",
    "\n",
    "prefix = 'Tj'\n",
    "\n",
    "\n",
    "count = sum(1 for word in string_list if word.startswith(prefix))\n",
    "\n",
    "\n",
    "print(\"Strings count with matching frequency:\", count)"
   ]
  },
  {
   "cell_type": "code",
   "execution_count": 20,
   "id": "9bde65f3-1037-461b-8405-a7f1e5b7390d",
   "metadata": {},
   "outputs": [
    {
     "name": "stdout",
     "output_type": "stream",
     "text": [
      "[['TjC'], ['TjCpp'], ['TjPython', 'Java', 'tj']]\n"
     ]
    }
   ],
   "source": [
    "# 48. Write a Python Program to Split Strings on Prefix Occurrence\n",
    "# Sample Output\n",
    "# ['TjC', 'TjCpp', 'TjPython', 'Java', 'tj']\n",
    "# Prefix = 'Tj'\n",
    "# [ ['TjC'], ['TjCpp'], ['TjPython', 'Java', 'tj'] ]\n",
    "\n",
    "\n",
    "string_list = ['TjC', 'TjCpp', 'TjPython', 'Java', 'tj']\n",
    "\n",
    "prefix = 'Tj'\n",
    "\n",
    "\n",
    "split_list = []\n",
    "temp = []\n",
    "\n",
    "for word in string_list:\n",
    "    if word.startswith(prefix):\n",
    "        if temp:  \n",
    "            split_list.append(temp)  # Append previous group if it exists\n",
    "        temp = [word]  # Start a new group\n",
    "    else:\n",
    "        temp.append(word)\n",
    "\n",
    "if temp:\n",
    "    split_list.append(temp)  # Append the last group\n",
    "\n",
    "\n",
    "print(split_list)"
   ]
  },
  {
   "cell_type": "code",
   "execution_count": 21,
   "id": "750af252-df24-418c-8b7d-c826158167a4",
   "metadata": {},
   "outputs": [
    {
     "name": "stdout",
     "output_type": "stream",
     "text": [
      "['@', '@', 'T', '@', '@', '@']\n"
     ]
    }
   ],
   "source": [
    "# 49. Write a Python program to Replace all Characters of a List Except the given character\n",
    "# Sample Output\n",
    "# ['P', 'Y', 'T', 'H', 'O', 'N']\n",
    "# ['@', '@', 'T', '@', '@', '@']\n",
    "\n",
    "char_list = ['P', 'Y', 'T', 'H', 'O', 'N']\n",
    "\n",
    "\n",
    "retain_char = 'T'\n",
    "\n",
    "\n",
    "modified_list = [char if char == retain_char else '@' for char in char_list]\n",
    "\n",
    "\n",
    "print(modified_list)\n"
   ]
  },
  {
   "cell_type": "code",
   "execution_count": 23,
   "id": "92ab0651-8680-48ee-8c22-6651b41c0fb1",
   "metadata": {},
   "outputs": [
    {
     "name": "stdout",
     "output_type": "stream",
     "text": [
      "['Tutor Joes', 'Computer Educations']\n"
     ]
    }
   ],
   "source": [
    "# 50. Write a Python Program to Add Space between Potential Words\n",
    "# Sample Output\n",
    "# ['TutorJoes', 'ComputerEducations']\n",
    "# [' Tutor Joes', ' Computer Educations']\n",
    "\n",
    "\n",
    "string_list = ['TutorJoes', 'ComputerEducations']\n",
    "\n",
    "\n",
    "spaced_list = [''.join(' ' + ch if ch.isupper() and i > 0 else ch for i, ch in enumerate(word)) for word in string_list]\n",
    "\n",
    "\n",
    "print(spaced_list)\n",
    "\n"
   ]
  },
  {
   "cell_type": "code",
   "execution_count": null,
   "id": "ca54a670-961b-47fc-b583-ec86b287f740",
   "metadata": {},
   "outputs": [],
   "source": []
  }
 ],
 "metadata": {
  "kernelspec": {
   "display_name": "Python 3 (ipykernel)",
   "language": "python",
   "name": "python3"
  },
  "language_info": {
   "codemirror_mode": {
    "name": "ipython",
    "version": 3
   },
   "file_extension": ".py",
   "mimetype": "text/x-python",
   "name": "python",
   "nbconvert_exporter": "python",
   "pygments_lexer": "ipython3",
   "version": "3.11.7"
  }
 },
 "nbformat": 4,
 "nbformat_minor": 5
}
